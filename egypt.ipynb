{
 "cells": [
  {
   "cell_type": "code",
   "execution_count": 1,
   "metadata": {
    "slideshow": {
     "slide_type": "skip"
    }
   },
   "outputs": [],
   "source": [
    "# import all packages and set plots to be embedded inline\n",
    "import numpy as np\n",
    "import pandas as pd\n",
    "import plotly.express as px\n",
    "%matplotlib inline\n",
    "# suppress warnings from final output\n",
    "import warnings\n",
    "warnings.simplefilter(\"ignore\")"
   ]
  },
  {
   "cell_type": "code",
   "execution_count": 2,
   "metadata": {
    "slideshow": {
     "slide_type": "skip"
    }
   },
   "outputs": [],
   "source": [
    "# load in the dataset into a pandas dataframe   ,infer_datetime_format=True\n",
    "df = pd.read_csv('outbreak_all_data.csv')\n",
    "df['reporting_date']=pd.to_datetime(df.reporting_date)\n",
    "df['month_year'] = df['reporting_date'].dt.to_period('M').astype('string')\n",
    "df.fillna(0,inplace=True)\n",
    "df['disease']=df.disease.str.strip()\n",
    "df['disease']=df.disease.str.replace('-','_')\n",
    "df['disease']=df.disease.str.replace(' ','_')\n",
    "df['disease']=df.disease.str.replace('___','_')\n",
    "#make data_frame of aggregates for each disease\n",
    "diseases_sum = df.groupby('disease').sum().reset_index()\n",
    "#calculate case fatality for human and animals\n",
    "diseases_sum['human_case_fatality']= diseases_sum.humans_deaths/diseases_sum.humans_affected\n",
    "diseases_sum['animal_case_fatality']= diseases_sum.sum_deaths/diseases_sum.sum_cases\n",
    "#make data_frame of aggregates for each country\n",
    "country_sum = df.groupby('country').sum().reset_index()\n",
    "country_sum['human_case_fatality']= country_sum.humans_deaths/country_sum.humans_affected\n",
    "country_sum['animal_case_fatality']= country_sum.sum_deaths/country_sum.sum_cases"
   ]
  },
  {
   "cell_type": "markdown",
   "metadata": {
    "slideshow": {
     "slide_type": "slide"
    }
   },
   "source": [
    "# Egypt and it's neighbors diseases"
   ]
  },
  {
   "cell_type": "code",
   "execution_count": 7,
   "metadata": {
    "slideshow": {
     "slide_type": "subslide"
    }
   },
   "outputs": [
    {
     "data": {
      "application/vnd.plotly.v1+json": {
       "config": {
        "plotlyServerURL": "https://plot.ly"
       },
       "data": [
        {
         "geo": "geo",
         "hovertemplate": "disease=Sheep_pox_and_goat_pox<br>animation_frame=2020-02-07<br>latitude=%{lat}<br>longitude=%{lon}<br>country=%{location}<extra></extra>",
         "ids": [
          "Sheep_pox_and_goat_pox"
         ],
         "lat": [
          32.74689
         ],
         "legendgroup": "Sheep_pox_and_goat_pox",
         "locationmode": "country names",
         "locations": [
          "Israel"
         ],
         "lon": [
          35.338636
         ],
         "marker": {
          "color": "#636efa",
          "symbol": "circle"
         },
         "mode": "markers",
         "name": "Sheep_pox_and_goat_pox",
         "showlegend": true,
         "type": "scattergeo"
        }
       ],
       "frames": [
        {
         "data": [
          {
           "geo": "geo",
           "hovertemplate": "disease=Sheep_pox_and_goat_pox<br>animation_frame=2020-02-07<br>latitude=%{lat}<br>longitude=%{lon}<br>country=%{location}<extra></extra>",
           "ids": [
            "Sheep_pox_and_goat_pox"
           ],
           "lat": [
            32.74689
           ],
           "legendgroup": "Sheep_pox_and_goat_pox",
           "locationmode": "country names",
           "locations": [
            "Israel"
           ],
           "lon": [
            35.338636
           ],
           "marker": {
            "color": "#636efa",
            "symbol": "circle"
           },
           "mode": "markers",
           "name": "Sheep_pox_and_goat_pox",
           "showlegend": true,
           "type": "scattergeo"
          }
         ],
         "name": "2020-02-07"
        },
        {
         "data": [
          {
           "geo": "geo",
           "hovertemplate": "disease=Rift_Valley_fever<br>animation_frame=2020-02-13<br>latitude=%{lat}<br>longitude=%{lon}<br>country=%{location}<extra></extra>",
           "ids": [
            "Rift_Valley_fever"
           ],
           "lat": [
            23.211389999999998
           ],
           "legendgroup": "Rift_Valley_fever",
           "locationmode": "country names",
           "locations": [
            "Libya"
           ],
           "lon": [
            22.1634
           ],
           "marker": {
            "color": "#EF553B",
            "symbol": "circle"
           },
           "mode": "markers",
           "name": "Rift_Valley_fever",
           "showlegend": true,
           "type": "scattergeo"
          }
         ],
         "name": "2020-02-13"
        },
        {
         "data": [
          {
           "geo": "geo",
           "hovertemplate": "disease=Rift_Valley_fever<br>animation_frame=2020-02-27<br>latitude=%{lat}<br>longitude=%{lon}<br>country=%{location}<extra></extra>",
           "ids": [
            "Rift_Valley_fever",
            "Rift_Valley_fever"
           ],
           "lat": [
            27.583809999999996,
            26.1123
           ],
           "legendgroup": "Rift_Valley_fever",
           "locationmode": "country names",
           "locations": [
            "Libya",
            "Libya"
           ],
           "lon": [
            14.241437,
            11.4921
           ],
           "marker": {
            "color": "#EF553B",
            "symbol": "circle"
           },
           "mode": "markers",
           "name": "Rift_Valley_fever",
           "showlegend": true,
           "type": "scattergeo"
          }
         ],
         "name": "2020-02-27"
        },
        {
         "data": [
          {
           "geo": "geo",
           "hovertemplate": "disease=Rift_Valley_fever<br>animation_frame=2020-03-02<br>latitude=%{lat}<br>longitude=%{lon}<br>country=%{location}<extra></extra>",
           "ids": [
            "Rift_Valley_fever",
            "Rift_Valley_fever"
           ],
           "lat": [
            23.491,
            23.491
           ],
           "legendgroup": "Rift_Valley_fever",
           "locationmode": "country names",
           "locations": [
            "Libya",
            "Libya"
           ],
           "lon": [
            22.0634,
            22.1634
           ],
           "marker": {
            "color": "#EF553B",
            "symbol": "circle"
           },
           "mode": "markers",
           "name": "Rift_Valley_fever",
           "showlegend": true,
           "type": "scattergeo"
          }
         ],
         "name": "2020-03-02"
        },
        {
         "data": [
          {
           "geo": "geo",
           "hovertemplate": "disease=Foot_and_mouth_disease<br>animation_frame=2020-03-31<br>latitude=%{lat}<br>longitude=%{lon}<br>country=%{location}<extra></extra>",
           "ids": [
            "Foot_and_mouth_disease"
           ],
           "lat": [
            32.70933397
           ],
           "legendgroup": "Foot_and_mouth_disease",
           "locationmode": "country names",
           "locations": [
            "Libya"
           ],
           "lon": [
            12.984501400000001
           ],
           "marker": {
            "color": "#00cc96",
            "symbol": "circle"
           },
           "mode": "markers",
           "name": "Foot_and_mouth_disease",
           "showlegend": true,
           "type": "scattergeo"
          }
         ],
         "name": "2020-03-31"
        },
        {
         "data": [
          {
           "geo": "geo",
           "hovertemplate": "disease=Influenza_Avian<br>animation_frame=2020-04-11<br>latitude=%{lat}<br>longitude=%{lon}<br>country=%{location}<extra></extra>",
           "ids": [
            "Influenza_Avian"
           ],
           "lat": [
            32.83736
           ],
           "legendgroup": "Influenza_Avian",
           "locationmode": "country names",
           "locations": [
            "Israel"
           ],
           "lon": [
            35.386941
           ],
           "marker": {
            "color": "#ab63fa",
            "symbol": "circle"
           },
           "mode": "markers",
           "name": "Influenza_Avian",
           "showlegend": true,
           "type": "scattergeo"
          }
         ],
         "name": "2020-04-11"
        },
        {
         "data": [
          {
           "geo": "geo",
           "hovertemplate": "disease=Foot_and_mouth_disease<br>animation_frame=2020-04-19<br>latitude=%{lat}<br>longitude=%{lon}<br>country=%{location}<extra></extra>",
           "ids": [
            "Foot_and_mouth_disease",
            "Foot_and_mouth_disease"
           ],
           "lat": [
            32.6242,
            32.709942
           ],
           "legendgroup": "Foot_and_mouth_disease",
           "locationmode": "country names",
           "locations": [
            "Libya",
            "Libya"
           ],
           "lon": [
            12.8871,
            12.987791
           ],
           "marker": {
            "color": "#00cc96",
            "symbol": "circle"
           },
           "mode": "markers",
           "name": "Foot_and_mouth_disease",
           "showlegend": true,
           "type": "scattergeo"
          }
         ],
         "name": "2020-04-19"
        },
        {
         "data": [
          {
           "geo": "geo",
           "hovertemplate": "disease=Influenza_Avian<br>animation_frame=2020-05-11<br>latitude=%{lat}<br>longitude=%{lon}<br>country=%{location}<extra></extra>",
           "ids": [
            "Influenza_Avian"
           ],
           "lat": [
            32.690157
           ],
           "legendgroup": "Influenza_Avian",
           "locationmode": "country names",
           "locations": [
            "Israel"
           ],
           "lon": [
            35.194604999999996
           ],
           "marker": {
            "color": "#ab63fa",
            "symbol": "circle"
           },
           "mode": "markers",
           "name": "Influenza_Avian",
           "showlegend": true,
           "type": "scattergeo"
          }
         ],
         "name": "2020-05-11"
        },
        {
         "data": [
          {
           "geo": "geo",
           "hovertemplate": "disease=Influenza_Avian<br>animation_frame=2020-06-12<br>latitude=%{lat}<br>longitude=%{lon}<br>country=%{location}<extra></extra>",
           "ids": [
            "Influenza_Avian",
            "Influenza_Avian",
            "Influenza_Avian"
           ],
           "lat": [
            32.690157,
            32.690157,
            33.051057
           ],
           "legendgroup": "Influenza_Avian",
           "locationmode": "country names",
           "locations": [
            "Israel",
            "Israel",
            "Israel"
           ],
           "lon": [
            35.194604999999996,
            35.194604999999996,
            35.608884
           ],
           "marker": {
            "color": "#ab63fa",
            "symbol": "circle"
           },
           "mode": "markers",
           "name": "Influenza_Avian",
           "showlegend": true,
           "type": "scattergeo"
          }
         ],
         "name": "2020-06-12"
        },
        {
         "data": [
          {
           "geo": "geo",
           "hovertemplate": "disease=Peste_des_petits_ruminants<br>animation_frame=2020-07-10<br>latitude=%{lat}<br>longitude=%{lon}<br>country=%{location}<extra></extra>",
           "ids": [
            "Peste_des_petits_ruminants"
           ],
           "lat": [
            32.42179
           ],
           "legendgroup": "Peste_des_petits_ruminants",
           "locationmode": "country names",
           "locations": [
            "Libya"
           ],
           "lon": [
            12.53315
           ],
           "marker": {
            "color": "#FFA15A",
            "symbol": "circle"
           },
           "mode": "markers",
           "name": "Peste_des_petits_ruminants",
           "showlegend": true,
           "type": "scattergeo"
          }
         ],
         "name": "2020-07-10"
        },
        {
         "data": [
          {
           "geo": "geo",
           "hovertemplate": "disease=Rift_Valley_fever<br>animation_frame=2020-09-05<br>latitude=%{lat}<br>longitude=%{lon}<br>country=%{location}<extra></extra>",
           "ids": [
            "Rift_Valley_fever"
           ],
           "lat": [
            26.1123
           ],
           "legendgroup": "Rift_Valley_fever",
           "locationmode": "country names",
           "locations": [
            "Libya"
           ],
           "lon": [
            11.4921
           ],
           "marker": {
            "color": "#EF553B",
            "symbol": "circle"
           },
           "mode": "markers",
           "name": "Rift_Valley_fever",
           "showlegend": true,
           "type": "scattergeo"
          }
         ],
         "name": "2020-09-05"
        },
        {
         "data": [
          {
           "geo": "geo",
           "hovertemplate": "disease=Foot_and_mouth_disease<br>animation_frame=2020-09-20<br>latitude=%{lat}<br>longitude=%{lon}<br>country=%{location}<extra></extra>",
           "ids": [
            "Foot_and_mouth_disease"
           ],
           "lat": [
            32.657
           ],
           "legendgroup": "Foot_and_mouth_disease",
           "locationmode": "country names",
           "locations": [
            "Libya"
           ],
           "lon": [
            13.0343
           ],
           "marker": {
            "color": "#00cc96",
            "symbol": "circle"
           },
           "mode": "markers",
           "name": "Foot_and_mouth_disease",
           "showlegend": true,
           "type": "scattergeo"
          }
         ],
         "name": "2020-09-20"
        },
        {
         "data": [
          {
           "geo": "geo",
           "hovertemplate": "disease=Brucellosis_(Brucella_abortus)<br>animation_frame=2020-09-27<br>latitude=%{lat}<br>longitude=%{lon}<br>country=%{location}<extra></extra>",
           "ids": [
            "Brucellosis_(Brucella_abortus)"
           ],
           "lat": [
            32.1777
           ],
           "legendgroup": "Brucellosis_(Brucella_abortus)",
           "locationmode": "country names",
           "locations": [
            "Libya"
           ],
           "lon": [
            15.1927
           ],
           "marker": {
            "color": "#19d3f3",
            "symbol": "circle"
           },
           "mode": "markers",
           "name": "Brucellosis_(Brucella_abortus)",
           "showlegend": true,
           "type": "scattergeo"
          }
         ],
         "name": "2020-09-27"
        },
        {
         "data": [
          {
           "geo": "geo",
           "hovertemplate": "disease=Influenza_Avian<br>animation_frame=2020-10-13<br>latitude=%{lat}<br>longitude=%{lon}<br>country=%{location}<extra></extra>",
           "ids": [
            "Influenza_Avian"
           ],
           "lat": [
            32.456501
           ],
           "legendgroup": "Influenza_Avian",
           "locationmode": "country names",
           "locations": [
            "Israel"
           ],
           "lon": [
            35.028724
           ],
           "marker": {
            "color": "#ab63fa",
            "symbol": "circle"
           },
           "mode": "markers",
           "name": "Influenza_Avian",
           "showlegend": true,
           "type": "scattergeo"
          },
          {
           "geo": "geo",
           "hovertemplate": "disease=Newcastle_disease<br>animation_frame=2020-10-13<br>latitude=%{lat}<br>longitude=%{lon}<br>country=%{location}<extra></extra>",
           "ids": [
            "Newcastle_disease",
            "Newcastle_disease",
            "Newcastle_disease",
            "Newcastle_disease",
            "Newcastle_disease",
            "Newcastle_disease",
            "Newcastle_disease",
            "Newcastle_disease"
           ],
           "lat": [
            32.906406,
            33.246735,
            32.776607,
            31.602752000000002,
            32.890158,
            31.676256,
            31.859997999999997,
            31.157922999999997
           ],
           "legendgroup": "Newcastle_disease",
           "locationmode": "country names",
           "locations": [
            "Israel",
            "Israel",
            "Israel",
            "Israel",
            "Israel",
            "Israel",
            "Israel",
            "Israel"
           ],
           "lon": [
            35.395525,
            35.59798,
            35.369632,
            34.542497,
            35.407245,
            34.637934,
            34.820659,
            35.020679
           ],
           "marker": {
            "color": "#FF6692",
            "symbol": "circle"
           },
           "mode": "markers",
           "name": "Newcastle_disease",
           "showlegend": true,
           "type": "scattergeo"
          }
         ],
         "name": "2020-10-13"
        },
        {
         "data": [
          {
           "geo": "geo",
           "hovertemplate": "disease=Influenza_Avian<br>animation_frame=2020-10-14<br>latitude=%{lat}<br>longitude=%{lon}<br>country=%{location}<extra></extra>",
           "ids": [
            "Influenza_Avian"
           ],
           "lat": [
            31.777611
           ],
           "legendgroup": "Influenza_Avian",
           "locationmode": "country names",
           "locations": [
            "Israel"
           ],
           "lon": [
            35.224262
           ],
           "marker": {
            "color": "#ab63fa",
            "symbol": "circle"
           },
           "mode": "markers",
           "name": "Influenza_Avian",
           "showlegend": true,
           "type": "scattergeo"
          }
         ],
         "name": "2020-10-14"
        },
        {
         "data": [
          {
           "geo": "geo",
           "hovertemplate": "disease=Influenza_Avian<br>animation_frame=2020-10-15<br>latitude=%{lat}<br>longitude=%{lon}<br>country=%{location}<extra></extra>",
           "ids": [
            "Influenza_Avian"
           ],
           "lat": [
            31.773415999999997
           ],
           "legendgroup": "Influenza_Avian",
           "locationmode": "country names",
           "locations": [
            "Israel"
           ],
           "lon": [
            34.816795
           ],
           "marker": {
            "color": "#ab63fa",
            "symbol": "circle"
           },
           "mode": "markers",
           "name": "Influenza_Avian",
           "showlegend": true,
           "type": "scattergeo"
          }
         ],
         "name": "2020-10-15"
        },
        {
         "data": [
          {
           "geo": "geo",
           "hovertemplate": "disease=Influenza_Avian<br>animation_frame=2020-10-19<br>latitude=%{lat}<br>longitude=%{lon}<br>country=%{location}<extra></extra>",
           "ids": [
            "Influenza_Avian"
           ],
           "lat": [
            32.526042935
           ],
           "legendgroup": "Influenza_Avian",
           "locationmode": "country names",
           "locations": [
            "Israel"
           ],
           "lon": [
            35.256354011
           ],
           "marker": {
            "color": "#ab63fa",
            "symbol": "circle"
           },
           "mode": "markers",
           "name": "Influenza_Avian",
           "showlegend": true,
           "type": "scattergeo"
          }
         ],
         "name": "2020-10-19"
        },
        {
         "data": [
          {
           "geo": "geo",
           "hovertemplate": "disease=Influenza_Avian<br>animation_frame=2020-10-26<br>latitude=%{lat}<br>longitude=%{lon}<br>country=%{location}<extra></extra>",
           "ids": [
            "Influenza_Avian",
            "Influenza_Avian"
           ],
           "lat": [
            32.526043,
            32.081807
           ],
           "legendgroup": "Influenza_Avian",
           "locationmode": "country names",
           "locations": [
            "Israel",
            "Israel"
           ],
           "lon": [
            35.256353999999995,
            34.81338
           ],
           "marker": {
            "color": "#ab63fa",
            "symbol": "circle"
           },
           "mode": "markers",
           "name": "Influenza_Avian",
           "showlegend": true,
           "type": "scattergeo"
          }
         ],
         "name": "2020-10-26"
        },
        {
         "data": [
          {
           "geo": "geo",
           "hovertemplate": "disease=Influenza_Avian<br>animation_frame=2020-10-29<br>latitude=%{lat}<br>longitude=%{lon}<br>country=%{location}<extra></extra>",
           "ids": [
            "Influenza_Avian"
           ],
           "lat": [
            32.674828999999995
           ],
           "legendgroup": "Influenza_Avian",
           "locationmode": "country names",
           "locations": [
            "Israel"
           ],
           "lon": [
            35.209532
           ],
           "marker": {
            "color": "#ab63fa",
            "symbol": "circle"
           },
           "mode": "markers",
           "name": "Influenza_Avian",
           "showlegend": true,
           "type": "scattergeo"
          }
         ],
         "name": "2020-10-29"
        },
        {
         "data": [
          {
           "geo": "geo",
           "hovertemplate": "disease=Foot_and_mouth_disease<br>animation_frame=2020-11-30<br>latitude=%{lat}<br>longitude=%{lon}<br>country=%{location}<extra></extra>",
           "ids": [
            "Foot_and_mouth_disease",
            "Foot_and_mouth_disease"
           ],
           "lat": [
            32.103223,
            32.103223
           ],
           "legendgroup": "Foot_and_mouth_disease",
           "locationmode": "country names",
           "locations": [
            "Libya",
            "Libya"
           ],
           "lon": [
            20.103223,
            20.103223
           ],
           "marker": {
            "color": "#00cc96",
            "symbol": "circle"
           },
           "mode": "markers",
           "name": "Foot_and_mouth_disease",
           "showlegend": true,
           "type": "scattergeo"
          }
         ],
         "name": "2020-11-30"
        },
        {
         "data": [
          {
           "geo": "geo",
           "hovertemplate": "disease=Influenza_Avian<br>animation_frame=2020-12-12<br>latitude=%{lat}<br>longitude=%{lon}<br>country=%{location}<extra></extra>",
           "ids": [
            "Influenza_Avian"
           ],
           "lat": [
            31.734447999999997
           ],
           "legendgroup": "Influenza_Avian",
           "locationmode": "country names",
           "locations": [
            "Israel"
           ],
           "lon": [
            34.997686
           ],
           "marker": {
            "color": "#ab63fa",
            "symbol": "circle"
           },
           "mode": "markers",
           "name": "Influenza_Avian",
           "showlegend": true,
           "type": "scattergeo"
          }
         ],
         "name": "2020-12-12"
        },
        {
         "data": [
          {
           "geo": "geo",
           "hovertemplate": "disease=Foot_and_mouth_disease<br>animation_frame=2020-12-15<br>latitude=%{lat}<br>longitude=%{lon}<br>country=%{location}<extra></extra>",
           "ids": [
            "Foot_and_mouth_disease",
            "Foot_and_mouth_disease"
           ],
           "lat": [
            32.103223,
            32.103223
           ],
           "legendgroup": "Foot_and_mouth_disease",
           "locationmode": "country names",
           "locations": [
            "Libya",
            "Libya"
           ],
           "lon": [
            20.103223,
            20.103223
           ],
           "marker": {
            "color": "#00cc96",
            "symbol": "circle"
           },
           "mode": "markers",
           "name": "Foot_and_mouth_disease",
           "showlegend": true,
           "type": "scattergeo"
          }
         ],
         "name": "2020-12-15"
        }
       ],
       "layout": {
        "geo": {
         "center": {},
         "domain": {
          "x": [
           0,
           1
          ],
          "y": [
           0,
           1
          ]
         }
        },
        "legend": {
         "title": {
          "text": "disease"
         },
         "tracegroupgap": 0
        },
        "sliders": [
         {
          "active": 0,
          "currentvalue": {
           "prefix": "animation_frame="
          },
          "len": 0.9,
          "pad": {
           "b": 10,
           "t": 60
          },
          "steps": [
           {
            "args": [
             [
              "2020-02-07"
             ],
             {
              "frame": {
               "duration": 0,
               "redraw": true
              },
              "fromcurrent": true,
              "mode": "immediate",
              "transition": {
               "duration": 0,
               "easing": "linear"
              }
             }
            ],
            "label": "2020-02-07",
            "method": "animate"
           },
           {
            "args": [
             [
              "2020-02-13"
             ],
             {
              "frame": {
               "duration": 0,
               "redraw": true
              },
              "fromcurrent": true,
              "mode": "immediate",
              "transition": {
               "duration": 0,
               "easing": "linear"
              }
             }
            ],
            "label": "2020-02-13",
            "method": "animate"
           },
           {
            "args": [
             [
              "2020-02-27"
             ],
             {
              "frame": {
               "duration": 0,
               "redraw": true
              },
              "fromcurrent": true,
              "mode": "immediate",
              "transition": {
               "duration": 0,
               "easing": "linear"
              }
             }
            ],
            "label": "2020-02-27",
            "method": "animate"
           },
           {
            "args": [
             [
              "2020-03-02"
             ],
             {
              "frame": {
               "duration": 0,
               "redraw": true
              },
              "fromcurrent": true,
              "mode": "immediate",
              "transition": {
               "duration": 0,
               "easing": "linear"
              }
             }
            ],
            "label": "2020-03-02",
            "method": "animate"
           },
           {
            "args": [
             [
              "2020-03-31"
             ],
             {
              "frame": {
               "duration": 0,
               "redraw": true
              },
              "fromcurrent": true,
              "mode": "immediate",
              "transition": {
               "duration": 0,
               "easing": "linear"
              }
             }
            ],
            "label": "2020-03-31",
            "method": "animate"
           },
           {
            "args": [
             [
              "2020-04-11"
             ],
             {
              "frame": {
               "duration": 0,
               "redraw": true
              },
              "fromcurrent": true,
              "mode": "immediate",
              "transition": {
               "duration": 0,
               "easing": "linear"
              }
             }
            ],
            "label": "2020-04-11",
            "method": "animate"
           },
           {
            "args": [
             [
              "2020-04-19"
             ],
             {
              "frame": {
               "duration": 0,
               "redraw": true
              },
              "fromcurrent": true,
              "mode": "immediate",
              "transition": {
               "duration": 0,
               "easing": "linear"
              }
             }
            ],
            "label": "2020-04-19",
            "method": "animate"
           },
           {
            "args": [
             [
              "2020-05-11"
             ],
             {
              "frame": {
               "duration": 0,
               "redraw": true
              },
              "fromcurrent": true,
              "mode": "immediate",
              "transition": {
               "duration": 0,
               "easing": "linear"
              }
             }
            ],
            "label": "2020-05-11",
            "method": "animate"
           },
           {
            "args": [
             [
              "2020-06-12"
             ],
             {
              "frame": {
               "duration": 0,
               "redraw": true
              },
              "fromcurrent": true,
              "mode": "immediate",
              "transition": {
               "duration": 0,
               "easing": "linear"
              }
             }
            ],
            "label": "2020-06-12",
            "method": "animate"
           },
           {
            "args": [
             [
              "2020-07-10"
             ],
             {
              "frame": {
               "duration": 0,
               "redraw": true
              },
              "fromcurrent": true,
              "mode": "immediate",
              "transition": {
               "duration": 0,
               "easing": "linear"
              }
             }
            ],
            "label": "2020-07-10",
            "method": "animate"
           },
           {
            "args": [
             [
              "2020-09-05"
             ],
             {
              "frame": {
               "duration": 0,
               "redraw": true
              },
              "fromcurrent": true,
              "mode": "immediate",
              "transition": {
               "duration": 0,
               "easing": "linear"
              }
             }
            ],
            "label": "2020-09-05",
            "method": "animate"
           },
           {
            "args": [
             [
              "2020-09-20"
             ],
             {
              "frame": {
               "duration": 0,
               "redraw": true
              },
              "fromcurrent": true,
              "mode": "immediate",
              "transition": {
               "duration": 0,
               "easing": "linear"
              }
             }
            ],
            "label": "2020-09-20",
            "method": "animate"
           },
           {
            "args": [
             [
              "2020-09-27"
             ],
             {
              "frame": {
               "duration": 0,
               "redraw": true
              },
              "fromcurrent": true,
              "mode": "immediate",
              "transition": {
               "duration": 0,
               "easing": "linear"
              }
             }
            ],
            "label": "2020-09-27",
            "method": "animate"
           },
           {
            "args": [
             [
              "2020-10-13"
             ],
             {
              "frame": {
               "duration": 0,
               "redraw": true
              },
              "fromcurrent": true,
              "mode": "immediate",
              "transition": {
               "duration": 0,
               "easing": "linear"
              }
             }
            ],
            "label": "2020-10-13",
            "method": "animate"
           },
           {
            "args": [
             [
              "2020-10-14"
             ],
             {
              "frame": {
               "duration": 0,
               "redraw": true
              },
              "fromcurrent": true,
              "mode": "immediate",
              "transition": {
               "duration": 0,
               "easing": "linear"
              }
             }
            ],
            "label": "2020-10-14",
            "method": "animate"
           },
           {
            "args": [
             [
              "2020-10-15"
             ],
             {
              "frame": {
               "duration": 0,
               "redraw": true
              },
              "fromcurrent": true,
              "mode": "immediate",
              "transition": {
               "duration": 0,
               "easing": "linear"
              }
             }
            ],
            "label": "2020-10-15",
            "method": "animate"
           },
           {
            "args": [
             [
              "2020-10-19"
             ],
             {
              "frame": {
               "duration": 0,
               "redraw": true
              },
              "fromcurrent": true,
              "mode": "immediate",
              "transition": {
               "duration": 0,
               "easing": "linear"
              }
             }
            ],
            "label": "2020-10-19",
            "method": "animate"
           },
           {
            "args": [
             [
              "2020-10-26"
             ],
             {
              "frame": {
               "duration": 0,
               "redraw": true
              },
              "fromcurrent": true,
              "mode": "immediate",
              "transition": {
               "duration": 0,
               "easing": "linear"
              }
             }
            ],
            "label": "2020-10-26",
            "method": "animate"
           },
           {
            "args": [
             [
              "2020-10-29"
             ],
             {
              "frame": {
               "duration": 0,
               "redraw": true
              },
              "fromcurrent": true,
              "mode": "immediate",
              "transition": {
               "duration": 0,
               "easing": "linear"
              }
             }
            ],
            "label": "2020-10-29",
            "method": "animate"
           },
           {
            "args": [
             [
              "2020-11-30"
             ],
             {
              "frame": {
               "duration": 0,
               "redraw": true
              },
              "fromcurrent": true,
              "mode": "immediate",
              "transition": {
               "duration": 0,
               "easing": "linear"
              }
             }
            ],
            "label": "2020-11-30",
            "method": "animate"
           },
           {
            "args": [
             [
              "2020-12-12"
             ],
             {
              "frame": {
               "duration": 0,
               "redraw": true
              },
              "fromcurrent": true,
              "mode": "immediate",
              "transition": {
               "duration": 0,
               "easing": "linear"
              }
             }
            ],
            "label": "2020-12-12",
            "method": "animate"
           },
           {
            "args": [
             [
              "2020-12-15"
             ],
             {
              "frame": {
               "duration": 0,
               "redraw": true
              },
              "fromcurrent": true,
              "mode": "immediate",
              "transition": {
               "duration": 0,
               "easing": "linear"
              }
             }
            ],
            "label": "2020-12-15",
            "method": "animate"
           }
          ],
          "x": 0.1,
          "xanchor": "left",
          "y": 0,
          "yanchor": "top"
         }
        ],
        "template": {
         "data": {
          "bar": [
           {
            "error_x": {
             "color": "#2a3f5f"
            },
            "error_y": {
             "color": "#2a3f5f"
            },
            "marker": {
             "line": {
              "color": "#E5ECF6",
              "width": 0.5
             }
            },
            "type": "bar"
           }
          ],
          "barpolar": [
           {
            "marker": {
             "line": {
              "color": "#E5ECF6",
              "width": 0.5
             }
            },
            "type": "barpolar"
           }
          ],
          "carpet": [
           {
            "aaxis": {
             "endlinecolor": "#2a3f5f",
             "gridcolor": "white",
             "linecolor": "white",
             "minorgridcolor": "white",
             "startlinecolor": "#2a3f5f"
            },
            "baxis": {
             "endlinecolor": "#2a3f5f",
             "gridcolor": "white",
             "linecolor": "white",
             "minorgridcolor": "white",
             "startlinecolor": "#2a3f5f"
            },
            "type": "carpet"
           }
          ],
          "choropleth": [
           {
            "colorbar": {
             "outlinewidth": 0,
             "ticks": ""
            },
            "type": "choropleth"
           }
          ],
          "contour": [
           {
            "colorbar": {
             "outlinewidth": 0,
             "ticks": ""
            },
            "colorscale": [
             [
              0,
              "#0d0887"
             ],
             [
              0.1111111111111111,
              "#46039f"
             ],
             [
              0.2222222222222222,
              "#7201a8"
             ],
             [
              0.3333333333333333,
              "#9c179e"
             ],
             [
              0.4444444444444444,
              "#bd3786"
             ],
             [
              0.5555555555555556,
              "#d8576b"
             ],
             [
              0.6666666666666666,
              "#ed7953"
             ],
             [
              0.7777777777777778,
              "#fb9f3a"
             ],
             [
              0.8888888888888888,
              "#fdca26"
             ],
             [
              1,
              "#f0f921"
             ]
            ],
            "type": "contour"
           }
          ],
          "contourcarpet": [
           {
            "colorbar": {
             "outlinewidth": 0,
             "ticks": ""
            },
            "type": "contourcarpet"
           }
          ],
          "heatmap": [
           {
            "colorbar": {
             "outlinewidth": 0,
             "ticks": ""
            },
            "colorscale": [
             [
              0,
              "#0d0887"
             ],
             [
              0.1111111111111111,
              "#46039f"
             ],
             [
              0.2222222222222222,
              "#7201a8"
             ],
             [
              0.3333333333333333,
              "#9c179e"
             ],
             [
              0.4444444444444444,
              "#bd3786"
             ],
             [
              0.5555555555555556,
              "#d8576b"
             ],
             [
              0.6666666666666666,
              "#ed7953"
             ],
             [
              0.7777777777777778,
              "#fb9f3a"
             ],
             [
              0.8888888888888888,
              "#fdca26"
             ],
             [
              1,
              "#f0f921"
             ]
            ],
            "type": "heatmap"
           }
          ],
          "heatmapgl": [
           {
            "colorbar": {
             "outlinewidth": 0,
             "ticks": ""
            },
            "colorscale": [
             [
              0,
              "#0d0887"
             ],
             [
              0.1111111111111111,
              "#46039f"
             ],
             [
              0.2222222222222222,
              "#7201a8"
             ],
             [
              0.3333333333333333,
              "#9c179e"
             ],
             [
              0.4444444444444444,
              "#bd3786"
             ],
             [
              0.5555555555555556,
              "#d8576b"
             ],
             [
              0.6666666666666666,
              "#ed7953"
             ],
             [
              0.7777777777777778,
              "#fb9f3a"
             ],
             [
              0.8888888888888888,
              "#fdca26"
             ],
             [
              1,
              "#f0f921"
             ]
            ],
            "type": "heatmapgl"
           }
          ],
          "histogram": [
           {
            "marker": {
             "colorbar": {
              "outlinewidth": 0,
              "ticks": ""
             }
            },
            "type": "histogram"
           }
          ],
          "histogram2d": [
           {
            "colorbar": {
             "outlinewidth": 0,
             "ticks": ""
            },
            "colorscale": [
             [
              0,
              "#0d0887"
             ],
             [
              0.1111111111111111,
              "#46039f"
             ],
             [
              0.2222222222222222,
              "#7201a8"
             ],
             [
              0.3333333333333333,
              "#9c179e"
             ],
             [
              0.4444444444444444,
              "#bd3786"
             ],
             [
              0.5555555555555556,
              "#d8576b"
             ],
             [
              0.6666666666666666,
              "#ed7953"
             ],
             [
              0.7777777777777778,
              "#fb9f3a"
             ],
             [
              0.8888888888888888,
              "#fdca26"
             ],
             [
              1,
              "#f0f921"
             ]
            ],
            "type": "histogram2d"
           }
          ],
          "histogram2dcontour": [
           {
            "colorbar": {
             "outlinewidth": 0,
             "ticks": ""
            },
            "colorscale": [
             [
              0,
              "#0d0887"
             ],
             [
              0.1111111111111111,
              "#46039f"
             ],
             [
              0.2222222222222222,
              "#7201a8"
             ],
             [
              0.3333333333333333,
              "#9c179e"
             ],
             [
              0.4444444444444444,
              "#bd3786"
             ],
             [
              0.5555555555555556,
              "#d8576b"
             ],
             [
              0.6666666666666666,
              "#ed7953"
             ],
             [
              0.7777777777777778,
              "#fb9f3a"
             ],
             [
              0.8888888888888888,
              "#fdca26"
             ],
             [
              1,
              "#f0f921"
             ]
            ],
            "type": "histogram2dcontour"
           }
          ],
          "mesh3d": [
           {
            "colorbar": {
             "outlinewidth": 0,
             "ticks": ""
            },
            "type": "mesh3d"
           }
          ],
          "parcoords": [
           {
            "line": {
             "colorbar": {
              "outlinewidth": 0,
              "ticks": ""
             }
            },
            "type": "parcoords"
           }
          ],
          "pie": [
           {
            "automargin": true,
            "type": "pie"
           }
          ],
          "scatter": [
           {
            "marker": {
             "colorbar": {
              "outlinewidth": 0,
              "ticks": ""
             }
            },
            "type": "scatter"
           }
          ],
          "scatter3d": [
           {
            "line": {
             "colorbar": {
              "outlinewidth": 0,
              "ticks": ""
             }
            },
            "marker": {
             "colorbar": {
              "outlinewidth": 0,
              "ticks": ""
             }
            },
            "type": "scatter3d"
           }
          ],
          "scattercarpet": [
           {
            "marker": {
             "colorbar": {
              "outlinewidth": 0,
              "ticks": ""
             }
            },
            "type": "scattercarpet"
           }
          ],
          "scattergeo": [
           {
            "marker": {
             "colorbar": {
              "outlinewidth": 0,
              "ticks": ""
             }
            },
            "type": "scattergeo"
           }
          ],
          "scattergl": [
           {
            "marker": {
             "colorbar": {
              "outlinewidth": 0,
              "ticks": ""
             }
            },
            "type": "scattergl"
           }
          ],
          "scattermapbox": [
           {
            "marker": {
             "colorbar": {
              "outlinewidth": 0,
              "ticks": ""
             }
            },
            "type": "scattermapbox"
           }
          ],
          "scatterpolar": [
           {
            "marker": {
             "colorbar": {
              "outlinewidth": 0,
              "ticks": ""
             }
            },
            "type": "scatterpolar"
           }
          ],
          "scatterpolargl": [
           {
            "marker": {
             "colorbar": {
              "outlinewidth": 0,
              "ticks": ""
             }
            },
            "type": "scatterpolargl"
           }
          ],
          "scatterternary": [
           {
            "marker": {
             "colorbar": {
              "outlinewidth": 0,
              "ticks": ""
             }
            },
            "type": "scatterternary"
           }
          ],
          "surface": [
           {
            "colorbar": {
             "outlinewidth": 0,
             "ticks": ""
            },
            "colorscale": [
             [
              0,
              "#0d0887"
             ],
             [
              0.1111111111111111,
              "#46039f"
             ],
             [
              0.2222222222222222,
              "#7201a8"
             ],
             [
              0.3333333333333333,
              "#9c179e"
             ],
             [
              0.4444444444444444,
              "#bd3786"
             ],
             [
              0.5555555555555556,
              "#d8576b"
             ],
             [
              0.6666666666666666,
              "#ed7953"
             ],
             [
              0.7777777777777778,
              "#fb9f3a"
             ],
             [
              0.8888888888888888,
              "#fdca26"
             ],
             [
              1,
              "#f0f921"
             ]
            ],
            "type": "surface"
           }
          ],
          "table": [
           {
            "cells": {
             "fill": {
              "color": "#EBF0F8"
             },
             "line": {
              "color": "white"
             }
            },
            "header": {
             "fill": {
              "color": "#C8D4E3"
             },
             "line": {
              "color": "white"
             }
            },
            "type": "table"
           }
          ]
         },
         "layout": {
          "annotationdefaults": {
           "arrowcolor": "#2a3f5f",
           "arrowhead": 0,
           "arrowwidth": 1
          },
          "coloraxis": {
           "colorbar": {
            "outlinewidth": 0,
            "ticks": ""
           }
          },
          "colorscale": {
           "diverging": [
            [
             0,
             "#8e0152"
            ],
            [
             0.1,
             "#c51b7d"
            ],
            [
             0.2,
             "#de77ae"
            ],
            [
             0.3,
             "#f1b6da"
            ],
            [
             0.4,
             "#fde0ef"
            ],
            [
             0.5,
             "#f7f7f7"
            ],
            [
             0.6,
             "#e6f5d0"
            ],
            [
             0.7,
             "#b8e186"
            ],
            [
             0.8,
             "#7fbc41"
            ],
            [
             0.9,
             "#4d9221"
            ],
            [
             1,
             "#276419"
            ]
           ],
           "sequential": [
            [
             0,
             "#0d0887"
            ],
            [
             0.1111111111111111,
             "#46039f"
            ],
            [
             0.2222222222222222,
             "#7201a8"
            ],
            [
             0.3333333333333333,
             "#9c179e"
            ],
            [
             0.4444444444444444,
             "#bd3786"
            ],
            [
             0.5555555555555556,
             "#d8576b"
            ],
            [
             0.6666666666666666,
             "#ed7953"
            ],
            [
             0.7777777777777778,
             "#fb9f3a"
            ],
            [
             0.8888888888888888,
             "#fdca26"
            ],
            [
             1,
             "#f0f921"
            ]
           ],
           "sequentialminus": [
            [
             0,
             "#0d0887"
            ],
            [
             0.1111111111111111,
             "#46039f"
            ],
            [
             0.2222222222222222,
             "#7201a8"
            ],
            [
             0.3333333333333333,
             "#9c179e"
            ],
            [
             0.4444444444444444,
             "#bd3786"
            ],
            [
             0.5555555555555556,
             "#d8576b"
            ],
            [
             0.6666666666666666,
             "#ed7953"
            ],
            [
             0.7777777777777778,
             "#fb9f3a"
            ],
            [
             0.8888888888888888,
             "#fdca26"
            ],
            [
             1,
             "#f0f921"
            ]
           ]
          },
          "colorway": [
           "#636efa",
           "#EF553B",
           "#00cc96",
           "#ab63fa",
           "#FFA15A",
           "#19d3f3",
           "#FF6692",
           "#B6E880",
           "#FF97FF",
           "#FECB52"
          ],
          "font": {
           "color": "#2a3f5f"
          },
          "geo": {
           "bgcolor": "white",
           "lakecolor": "white",
           "landcolor": "#E5ECF6",
           "showlakes": true,
           "showland": true,
           "subunitcolor": "white"
          },
          "hoverlabel": {
           "align": "left"
          },
          "hovermode": "closest",
          "mapbox": {
           "style": "light"
          },
          "paper_bgcolor": "white",
          "plot_bgcolor": "#E5ECF6",
          "polar": {
           "angularaxis": {
            "gridcolor": "white",
            "linecolor": "white",
            "ticks": ""
           },
           "bgcolor": "#E5ECF6",
           "radialaxis": {
            "gridcolor": "white",
            "linecolor": "white",
            "ticks": ""
           }
          },
          "scene": {
           "xaxis": {
            "backgroundcolor": "#E5ECF6",
            "gridcolor": "white",
            "gridwidth": 2,
            "linecolor": "white",
            "showbackground": true,
            "ticks": "",
            "zerolinecolor": "white"
           },
           "yaxis": {
            "backgroundcolor": "#E5ECF6",
            "gridcolor": "white",
            "gridwidth": 2,
            "linecolor": "white",
            "showbackground": true,
            "ticks": "",
            "zerolinecolor": "white"
           },
           "zaxis": {
            "backgroundcolor": "#E5ECF6",
            "gridcolor": "white",
            "gridwidth": 2,
            "linecolor": "white",
            "showbackground": true,
            "ticks": "",
            "zerolinecolor": "white"
           }
          },
          "shapedefaults": {
           "line": {
            "color": "#2a3f5f"
           }
          },
          "ternary": {
           "aaxis": {
            "gridcolor": "white",
            "linecolor": "white",
            "ticks": ""
           },
           "baxis": {
            "gridcolor": "white",
            "linecolor": "white",
            "ticks": ""
           },
           "bgcolor": "#E5ECF6",
           "caxis": {
            "gridcolor": "white",
            "linecolor": "white",
            "ticks": ""
           }
          },
          "title": {
           "x": 0.05
          },
          "xaxis": {
           "automargin": true,
           "gridcolor": "white",
           "linecolor": "white",
           "ticks": "",
           "title": {
            "standoff": 15
           },
           "zerolinecolor": "white",
           "zerolinewidth": 2
          },
          "yaxis": {
           "automargin": true,
           "gridcolor": "white",
           "linecolor": "white",
           "ticks": "",
           "title": {
            "standoff": 15
           },
           "zerolinecolor": "white",
           "zerolinewidth": 2
          }
         }
        },
        "title": {
         "text": "Egypt and it's neighbors diseases"
        },
        "updatemenus": [
         {
          "buttons": [
           {
            "args": [
             null,
             {
              "frame": {
               "duration": 500,
               "redraw": true
              },
              "fromcurrent": true,
              "mode": "immediate",
              "transition": {
               "duration": 500,
               "easing": "linear"
              }
             }
            ],
            "label": "&#9654;",
            "method": "animate"
           },
           {
            "args": [
             [
              null
             ],
             {
              "frame": {
               "duration": 0,
               "redraw": true
              },
              "fromcurrent": true,
              "mode": "immediate",
              "transition": {
               "duration": 0,
               "easing": "linear"
              }
             }
            ],
            "label": "&#9724;",
            "method": "animate"
           }
          ],
          "direction": "left",
          "pad": {
           "r": 10,
           "t": 70
          },
          "showactive": false,
          "type": "buttons",
          "x": 0.1,
          "xanchor": "right",
          "y": 0,
          "yanchor": "top"
         }
        ]
       }
      },
      "text/html": [
       "<div>                            <div id=\"e1e7b45b-0919-4640-adcd-471f02f066a0\" class=\"plotly-graph-div\" style=\"height:525px; width:100%;\"></div>            <script type=\"text/javascript\">                require([\"plotly\"], function(Plotly) {                    window.PLOTLYENV=window.PLOTLYENV || {};                                    if (document.getElementById(\"e1e7b45b-0919-4640-adcd-471f02f066a0\")) {                    Plotly.newPlot(                        \"e1e7b45b-0919-4640-adcd-471f02f066a0\",                        [{\"geo\": \"geo\", \"hovertemplate\": \"disease=Sheep_pox_and_goat_pox<br>animation_frame=2020-02-07<br>latitude=%{lat}<br>longitude=%{lon}<br>country=%{location}<extra></extra>\", \"ids\": [\"Sheep_pox_and_goat_pox\"], \"lat\": [32.74689], \"legendgroup\": \"Sheep_pox_and_goat_pox\", \"locationmode\": \"country names\", \"locations\": [\"Israel\"], \"lon\": [35.338636], \"marker\": {\"color\": \"#636efa\", \"symbol\": \"circle\"}, \"mode\": \"markers\", \"name\": \"Sheep_pox_and_goat_pox\", \"showlegend\": true, \"type\": \"scattergeo\"}],                        {\"geo\": {\"center\": {}, \"domain\": {\"x\": [0.0, 1.0], \"y\": [0.0, 1.0]}}, \"legend\": {\"title\": {\"text\": \"disease\"}, \"tracegroupgap\": 0}, \"sliders\": [{\"active\": 0, \"currentvalue\": {\"prefix\": \"animation_frame=\"}, \"len\": 0.9, \"pad\": {\"b\": 10, \"t\": 60}, \"steps\": [{\"args\": [[\"2020-02-07\"], {\"frame\": {\"duration\": 0, \"redraw\": true}, \"fromcurrent\": true, \"mode\": \"immediate\", \"transition\": {\"duration\": 0, \"easing\": \"linear\"}}], \"label\": \"2020-02-07\", \"method\": \"animate\"}, {\"args\": [[\"2020-02-13\"], {\"frame\": {\"duration\": 0, \"redraw\": true}, \"fromcurrent\": true, \"mode\": \"immediate\", \"transition\": {\"duration\": 0, \"easing\": \"linear\"}}], \"label\": \"2020-02-13\", \"method\": \"animate\"}, {\"args\": [[\"2020-02-27\"], {\"frame\": {\"duration\": 0, \"redraw\": true}, \"fromcurrent\": true, \"mode\": \"immediate\", \"transition\": {\"duration\": 0, \"easing\": \"linear\"}}], \"label\": \"2020-02-27\", \"method\": \"animate\"}, {\"args\": [[\"2020-03-02\"], {\"frame\": {\"duration\": 0, \"redraw\": true}, \"fromcurrent\": true, \"mode\": \"immediate\", \"transition\": {\"duration\": 0, \"easing\": \"linear\"}}], \"label\": \"2020-03-02\", \"method\": \"animate\"}, {\"args\": [[\"2020-03-31\"], {\"frame\": {\"duration\": 0, \"redraw\": true}, \"fromcurrent\": true, \"mode\": \"immediate\", \"transition\": {\"duration\": 0, \"easing\": \"linear\"}}], \"label\": \"2020-03-31\", \"method\": \"animate\"}, {\"args\": [[\"2020-04-11\"], {\"frame\": {\"duration\": 0, \"redraw\": true}, \"fromcurrent\": true, \"mode\": \"immediate\", \"transition\": {\"duration\": 0, \"easing\": \"linear\"}}], \"label\": \"2020-04-11\", \"method\": \"animate\"}, {\"args\": [[\"2020-04-19\"], {\"frame\": {\"duration\": 0, \"redraw\": true}, \"fromcurrent\": true, \"mode\": \"immediate\", \"transition\": {\"duration\": 0, \"easing\": \"linear\"}}], \"label\": \"2020-04-19\", \"method\": \"animate\"}, {\"args\": [[\"2020-05-11\"], {\"frame\": {\"duration\": 0, \"redraw\": true}, \"fromcurrent\": true, \"mode\": \"immediate\", \"transition\": {\"duration\": 0, \"easing\": \"linear\"}}], \"label\": \"2020-05-11\", \"method\": \"animate\"}, {\"args\": [[\"2020-06-12\"], {\"frame\": {\"duration\": 0, \"redraw\": true}, \"fromcurrent\": true, \"mode\": \"immediate\", \"transition\": {\"duration\": 0, \"easing\": \"linear\"}}], \"label\": \"2020-06-12\", \"method\": \"animate\"}, {\"args\": [[\"2020-07-10\"], {\"frame\": {\"duration\": 0, \"redraw\": true}, \"fromcurrent\": true, \"mode\": \"immediate\", \"transition\": {\"duration\": 0, \"easing\": \"linear\"}}], \"label\": \"2020-07-10\", \"method\": \"animate\"}, {\"args\": [[\"2020-09-05\"], {\"frame\": {\"duration\": 0, \"redraw\": true}, \"fromcurrent\": true, \"mode\": \"immediate\", \"transition\": {\"duration\": 0, \"easing\": \"linear\"}}], \"label\": \"2020-09-05\", \"method\": \"animate\"}, {\"args\": [[\"2020-09-20\"], {\"frame\": {\"duration\": 0, \"redraw\": true}, \"fromcurrent\": true, \"mode\": \"immediate\", \"transition\": {\"duration\": 0, \"easing\": \"linear\"}}], \"label\": \"2020-09-20\", \"method\": \"animate\"}, {\"args\": [[\"2020-09-27\"], {\"frame\": {\"duration\": 0, \"redraw\": true}, \"fromcurrent\": true, \"mode\": \"immediate\", \"transition\": {\"duration\": 0, \"easing\": \"linear\"}}], \"label\": \"2020-09-27\", \"method\": \"animate\"}, {\"args\": [[\"2020-10-13\"], {\"frame\": {\"duration\": 0, \"redraw\": true}, \"fromcurrent\": true, \"mode\": \"immediate\", \"transition\": {\"duration\": 0, \"easing\": \"linear\"}}], \"label\": \"2020-10-13\", \"method\": \"animate\"}, {\"args\": [[\"2020-10-14\"], {\"frame\": {\"duration\": 0, \"redraw\": true}, \"fromcurrent\": true, \"mode\": \"immediate\", \"transition\": {\"duration\": 0, \"easing\": \"linear\"}}], \"label\": \"2020-10-14\", \"method\": \"animate\"}, {\"args\": [[\"2020-10-15\"], {\"frame\": {\"duration\": 0, \"redraw\": true}, \"fromcurrent\": true, \"mode\": \"immediate\", \"transition\": {\"duration\": 0, \"easing\": \"linear\"}}], \"label\": \"2020-10-15\", \"method\": \"animate\"}, {\"args\": [[\"2020-10-19\"], {\"frame\": {\"duration\": 0, \"redraw\": true}, \"fromcurrent\": true, \"mode\": \"immediate\", \"transition\": {\"duration\": 0, \"easing\": \"linear\"}}], \"label\": \"2020-10-19\", \"method\": \"animate\"}, {\"args\": [[\"2020-10-26\"], {\"frame\": {\"duration\": 0, \"redraw\": true}, \"fromcurrent\": true, \"mode\": \"immediate\", \"transition\": {\"duration\": 0, \"easing\": \"linear\"}}], \"label\": \"2020-10-26\", \"method\": \"animate\"}, {\"args\": [[\"2020-10-29\"], {\"frame\": {\"duration\": 0, \"redraw\": true}, \"fromcurrent\": true, \"mode\": \"immediate\", \"transition\": {\"duration\": 0, \"easing\": \"linear\"}}], \"label\": \"2020-10-29\", \"method\": \"animate\"}, {\"args\": [[\"2020-11-30\"], {\"frame\": {\"duration\": 0, \"redraw\": true}, \"fromcurrent\": true, \"mode\": \"immediate\", \"transition\": {\"duration\": 0, \"easing\": \"linear\"}}], \"label\": \"2020-11-30\", \"method\": \"animate\"}, {\"args\": [[\"2020-12-12\"], {\"frame\": {\"duration\": 0, \"redraw\": true}, \"fromcurrent\": true, \"mode\": \"immediate\", \"transition\": {\"duration\": 0, \"easing\": \"linear\"}}], \"label\": \"2020-12-12\", \"method\": \"animate\"}, {\"args\": [[\"2020-12-15\"], {\"frame\": {\"duration\": 0, \"redraw\": true}, \"fromcurrent\": true, \"mode\": \"immediate\", \"transition\": {\"duration\": 0, \"easing\": \"linear\"}}], \"label\": \"2020-12-15\", \"method\": \"animate\"}], \"x\": 0.1, \"xanchor\": \"left\", \"y\": 0, \"yanchor\": \"top\"}], \"template\": {\"data\": {\"bar\": [{\"error_x\": {\"color\": \"#2a3f5f\"}, \"error_y\": {\"color\": \"#2a3f5f\"}, \"marker\": {\"line\": {\"color\": \"#E5ECF6\", \"width\": 0.5}}, \"type\": \"bar\"}], \"barpolar\": [{\"marker\": {\"line\": {\"color\": \"#E5ECF6\", \"width\": 0.5}}, \"type\": \"barpolar\"}], \"carpet\": [{\"aaxis\": {\"endlinecolor\": \"#2a3f5f\", \"gridcolor\": \"white\", \"linecolor\": \"white\", \"minorgridcolor\": \"white\", \"startlinecolor\": \"#2a3f5f\"}, \"baxis\": {\"endlinecolor\": \"#2a3f5f\", \"gridcolor\": \"white\", \"linecolor\": \"white\", \"minorgridcolor\": \"white\", \"startlinecolor\": \"#2a3f5f\"}, \"type\": \"carpet\"}], \"choropleth\": [{\"colorbar\": {\"outlinewidth\": 0, \"ticks\": \"\"}, \"type\": \"choropleth\"}], \"contour\": [{\"colorbar\": {\"outlinewidth\": 0, \"ticks\": \"\"}, \"colorscale\": [[0.0, \"#0d0887\"], [0.1111111111111111, \"#46039f\"], [0.2222222222222222, \"#7201a8\"], [0.3333333333333333, \"#9c179e\"], [0.4444444444444444, \"#bd3786\"], [0.5555555555555556, \"#d8576b\"], [0.6666666666666666, \"#ed7953\"], [0.7777777777777778, \"#fb9f3a\"], [0.8888888888888888, \"#fdca26\"], [1.0, \"#f0f921\"]], \"type\": \"contour\"}], \"contourcarpet\": [{\"colorbar\": {\"outlinewidth\": 0, \"ticks\": \"\"}, \"type\": \"contourcarpet\"}], \"heatmap\": [{\"colorbar\": {\"outlinewidth\": 0, \"ticks\": \"\"}, \"colorscale\": [[0.0, \"#0d0887\"], [0.1111111111111111, \"#46039f\"], [0.2222222222222222, \"#7201a8\"], [0.3333333333333333, \"#9c179e\"], [0.4444444444444444, \"#bd3786\"], [0.5555555555555556, \"#d8576b\"], [0.6666666666666666, \"#ed7953\"], [0.7777777777777778, \"#fb9f3a\"], [0.8888888888888888, \"#fdca26\"], [1.0, \"#f0f921\"]], \"type\": \"heatmap\"}], \"heatmapgl\": [{\"colorbar\": {\"outlinewidth\": 0, \"ticks\": \"\"}, \"colorscale\": [[0.0, \"#0d0887\"], [0.1111111111111111, \"#46039f\"], [0.2222222222222222, \"#7201a8\"], [0.3333333333333333, \"#9c179e\"], [0.4444444444444444, \"#bd3786\"], [0.5555555555555556, \"#d8576b\"], [0.6666666666666666, \"#ed7953\"], [0.7777777777777778, \"#fb9f3a\"], [0.8888888888888888, \"#fdca26\"], [1.0, \"#f0f921\"]], \"type\": \"heatmapgl\"}], \"histogram\": [{\"marker\": {\"colorbar\": {\"outlinewidth\": 0, \"ticks\": \"\"}}, \"type\": \"histogram\"}], \"histogram2d\": [{\"colorbar\": {\"outlinewidth\": 0, \"ticks\": \"\"}, \"colorscale\": [[0.0, \"#0d0887\"], [0.1111111111111111, \"#46039f\"], [0.2222222222222222, \"#7201a8\"], [0.3333333333333333, \"#9c179e\"], [0.4444444444444444, \"#bd3786\"], [0.5555555555555556, \"#d8576b\"], [0.6666666666666666, \"#ed7953\"], [0.7777777777777778, \"#fb9f3a\"], [0.8888888888888888, \"#fdca26\"], [1.0, \"#f0f921\"]], \"type\": \"histogram2d\"}], \"histogram2dcontour\": [{\"colorbar\": {\"outlinewidth\": 0, \"ticks\": \"\"}, \"colorscale\": [[0.0, \"#0d0887\"], [0.1111111111111111, \"#46039f\"], [0.2222222222222222, \"#7201a8\"], [0.3333333333333333, \"#9c179e\"], [0.4444444444444444, \"#bd3786\"], [0.5555555555555556, \"#d8576b\"], [0.6666666666666666, \"#ed7953\"], [0.7777777777777778, \"#fb9f3a\"], [0.8888888888888888, \"#fdca26\"], [1.0, \"#f0f921\"]], \"type\": \"histogram2dcontour\"}], \"mesh3d\": [{\"colorbar\": {\"outlinewidth\": 0, \"ticks\": \"\"}, \"type\": \"mesh3d\"}], \"parcoords\": [{\"line\": {\"colorbar\": {\"outlinewidth\": 0, \"ticks\": \"\"}}, \"type\": \"parcoords\"}], \"pie\": [{\"automargin\": true, \"type\": \"pie\"}], \"scatter\": [{\"marker\": {\"colorbar\": {\"outlinewidth\": 0, \"ticks\": \"\"}}, \"type\": \"scatter\"}], \"scatter3d\": [{\"line\": {\"colorbar\": {\"outlinewidth\": 0, \"ticks\": \"\"}}, \"marker\": {\"colorbar\": {\"outlinewidth\": 0, \"ticks\": \"\"}}, \"type\": \"scatter3d\"}], \"scattercarpet\": [{\"marker\": {\"colorbar\": {\"outlinewidth\": 0, \"ticks\": \"\"}}, \"type\": \"scattercarpet\"}], \"scattergeo\": [{\"marker\": {\"colorbar\": {\"outlinewidth\": 0, \"ticks\": \"\"}}, \"type\": \"scattergeo\"}], \"scattergl\": [{\"marker\": {\"colorbar\": {\"outlinewidth\": 0, \"ticks\": \"\"}}, \"type\": \"scattergl\"}], \"scattermapbox\": [{\"marker\": {\"colorbar\": {\"outlinewidth\": 0, \"ticks\": \"\"}}, \"type\": \"scattermapbox\"}], \"scatterpolar\": [{\"marker\": {\"colorbar\": {\"outlinewidth\": 0, \"ticks\": \"\"}}, \"type\": \"scatterpolar\"}], \"scatterpolargl\": [{\"marker\": {\"colorbar\": {\"outlinewidth\": 0, \"ticks\": \"\"}}, \"type\": \"scatterpolargl\"}], \"scatterternary\": [{\"marker\": {\"colorbar\": {\"outlinewidth\": 0, \"ticks\": \"\"}}, \"type\": \"scatterternary\"}], \"surface\": [{\"colorbar\": {\"outlinewidth\": 0, \"ticks\": \"\"}, \"colorscale\": [[0.0, \"#0d0887\"], [0.1111111111111111, \"#46039f\"], [0.2222222222222222, \"#7201a8\"], [0.3333333333333333, \"#9c179e\"], [0.4444444444444444, \"#bd3786\"], [0.5555555555555556, \"#d8576b\"], [0.6666666666666666, \"#ed7953\"], [0.7777777777777778, \"#fb9f3a\"], [0.8888888888888888, \"#fdca26\"], [1.0, \"#f0f921\"]], \"type\": \"surface\"}], \"table\": [{\"cells\": {\"fill\": {\"color\": \"#EBF0F8\"}, \"line\": {\"color\": \"white\"}}, \"header\": {\"fill\": {\"color\": \"#C8D4E3\"}, \"line\": {\"color\": \"white\"}}, \"type\": \"table\"}]}, \"layout\": {\"annotationdefaults\": {\"arrowcolor\": \"#2a3f5f\", \"arrowhead\": 0, \"arrowwidth\": 1}, \"coloraxis\": {\"colorbar\": {\"outlinewidth\": 0, \"ticks\": \"\"}}, \"colorscale\": {\"diverging\": [[0, \"#8e0152\"], [0.1, \"#c51b7d\"], [0.2, \"#de77ae\"], [0.3, \"#f1b6da\"], [0.4, \"#fde0ef\"], [0.5, \"#f7f7f7\"], [0.6, \"#e6f5d0\"], [0.7, \"#b8e186\"], [0.8, \"#7fbc41\"], [0.9, \"#4d9221\"], [1, \"#276419\"]], \"sequential\": [[0.0, \"#0d0887\"], [0.1111111111111111, \"#46039f\"], [0.2222222222222222, \"#7201a8\"], [0.3333333333333333, \"#9c179e\"], [0.4444444444444444, \"#bd3786\"], [0.5555555555555556, \"#d8576b\"], [0.6666666666666666, \"#ed7953\"], [0.7777777777777778, \"#fb9f3a\"], [0.8888888888888888, \"#fdca26\"], [1.0, \"#f0f921\"]], \"sequentialminus\": [[0.0, \"#0d0887\"], [0.1111111111111111, \"#46039f\"], [0.2222222222222222, \"#7201a8\"], [0.3333333333333333, \"#9c179e\"], [0.4444444444444444, \"#bd3786\"], [0.5555555555555556, \"#d8576b\"], [0.6666666666666666, \"#ed7953\"], [0.7777777777777778, \"#fb9f3a\"], [0.8888888888888888, \"#fdca26\"], [1.0, \"#f0f921\"]]}, \"colorway\": [\"#636efa\", \"#EF553B\", \"#00cc96\", \"#ab63fa\", \"#FFA15A\", \"#19d3f3\", \"#FF6692\", \"#B6E880\", \"#FF97FF\", \"#FECB52\"], \"font\": {\"color\": \"#2a3f5f\"}, \"geo\": {\"bgcolor\": \"white\", \"lakecolor\": \"white\", \"landcolor\": \"#E5ECF6\", \"showlakes\": true, \"showland\": true, \"subunitcolor\": \"white\"}, \"hoverlabel\": {\"align\": \"left\"}, \"hovermode\": \"closest\", \"mapbox\": {\"style\": \"light\"}, \"paper_bgcolor\": \"white\", \"plot_bgcolor\": \"#E5ECF6\", \"polar\": {\"angularaxis\": {\"gridcolor\": \"white\", \"linecolor\": \"white\", \"ticks\": \"\"}, \"bgcolor\": \"#E5ECF6\", \"radialaxis\": {\"gridcolor\": \"white\", \"linecolor\": \"white\", \"ticks\": \"\"}}, \"scene\": {\"xaxis\": {\"backgroundcolor\": \"#E5ECF6\", \"gridcolor\": \"white\", \"gridwidth\": 2, \"linecolor\": \"white\", \"showbackground\": true, \"ticks\": \"\", \"zerolinecolor\": \"white\"}, \"yaxis\": {\"backgroundcolor\": \"#E5ECF6\", \"gridcolor\": \"white\", \"gridwidth\": 2, \"linecolor\": \"white\", \"showbackground\": true, \"ticks\": \"\", \"zerolinecolor\": \"white\"}, \"zaxis\": {\"backgroundcolor\": \"#E5ECF6\", \"gridcolor\": \"white\", \"gridwidth\": 2, \"linecolor\": \"white\", \"showbackground\": true, \"ticks\": \"\", \"zerolinecolor\": \"white\"}}, \"shapedefaults\": {\"line\": {\"color\": \"#2a3f5f\"}}, \"ternary\": {\"aaxis\": {\"gridcolor\": \"white\", \"linecolor\": \"white\", \"ticks\": \"\"}, \"baxis\": {\"gridcolor\": \"white\", \"linecolor\": \"white\", \"ticks\": \"\"}, \"bgcolor\": \"#E5ECF6\", \"caxis\": {\"gridcolor\": \"white\", \"linecolor\": \"white\", \"ticks\": \"\"}}, \"title\": {\"x\": 0.05}, \"xaxis\": {\"automargin\": true, \"gridcolor\": \"white\", \"linecolor\": \"white\", \"ticks\": \"\", \"title\": {\"standoff\": 15}, \"zerolinecolor\": \"white\", \"zerolinewidth\": 2}, \"yaxis\": {\"automargin\": true, \"gridcolor\": \"white\", \"linecolor\": \"white\", \"ticks\": \"\", \"title\": {\"standoff\": 15}, \"zerolinecolor\": \"white\", \"zerolinewidth\": 2}}}, \"title\": {\"text\": \"Egypt and it's neighbors diseases\"}, \"updatemenus\": [{\"buttons\": [{\"args\": [null, {\"frame\": {\"duration\": 500, \"redraw\": true}, \"fromcurrent\": true, \"mode\": \"immediate\", \"transition\": {\"duration\": 500, \"easing\": \"linear\"}}], \"label\": \"&#9654;\", \"method\": \"animate\"}, {\"args\": [[null], {\"frame\": {\"duration\": 0, \"redraw\": true}, \"fromcurrent\": true, \"mode\": \"immediate\", \"transition\": {\"duration\": 0, \"easing\": \"linear\"}}], \"label\": \"&#9724;\", \"method\": \"animate\"}], \"direction\": \"left\", \"pad\": {\"r\": 10, \"t\": 70}, \"showactive\": false, \"type\": \"buttons\", \"x\": 0.1, \"xanchor\": \"right\", \"y\": 0, \"yanchor\": \"top\"}]},                        {\"responsive\": true}                    ).then(function(){\n",
       "                            Plotly.addFrames('e1e7b45b-0919-4640-adcd-471f02f066a0', [{\"data\": [{\"geo\": \"geo\", \"hovertemplate\": \"disease=Sheep_pox_and_goat_pox<br>animation_frame=2020-02-07<br>latitude=%{lat}<br>longitude=%{lon}<br>country=%{location}<extra></extra>\", \"ids\": [\"Sheep_pox_and_goat_pox\"], \"lat\": [32.74689], \"legendgroup\": \"Sheep_pox_and_goat_pox\", \"locationmode\": \"country names\", \"locations\": [\"Israel\"], \"lon\": [35.338636], \"marker\": {\"color\": \"#636efa\", \"symbol\": \"circle\"}, \"mode\": \"markers\", \"name\": \"Sheep_pox_and_goat_pox\", \"showlegend\": true, \"type\": \"scattergeo\"}], \"name\": \"2020-02-07\"}, {\"data\": [{\"geo\": \"geo\", \"hovertemplate\": \"disease=Rift_Valley_fever<br>animation_frame=2020-02-13<br>latitude=%{lat}<br>longitude=%{lon}<br>country=%{location}<extra></extra>\", \"ids\": [\"Rift_Valley_fever\"], \"lat\": [23.211389999999998], \"legendgroup\": \"Rift_Valley_fever\", \"locationmode\": \"country names\", \"locations\": [\"Libya\"], \"lon\": [22.1634], \"marker\": {\"color\": \"#EF553B\", \"symbol\": \"circle\"}, \"mode\": \"markers\", \"name\": \"Rift_Valley_fever\", \"showlegend\": true, \"type\": \"scattergeo\"}], \"name\": \"2020-02-13\"}, {\"data\": [{\"geo\": \"geo\", \"hovertemplate\": \"disease=Rift_Valley_fever<br>animation_frame=2020-02-27<br>latitude=%{lat}<br>longitude=%{lon}<br>country=%{location}<extra></extra>\", \"ids\": [\"Rift_Valley_fever\", \"Rift_Valley_fever\"], \"lat\": [27.583809999999996, 26.1123], \"legendgroup\": \"Rift_Valley_fever\", \"locationmode\": \"country names\", \"locations\": [\"Libya\", \"Libya\"], \"lon\": [14.241437, 11.4921], \"marker\": {\"color\": \"#EF553B\", \"symbol\": \"circle\"}, \"mode\": \"markers\", \"name\": \"Rift_Valley_fever\", \"showlegend\": true, \"type\": \"scattergeo\"}], \"name\": \"2020-02-27\"}, {\"data\": [{\"geo\": \"geo\", \"hovertemplate\": \"disease=Rift_Valley_fever<br>animation_frame=2020-03-02<br>latitude=%{lat}<br>longitude=%{lon}<br>country=%{location}<extra></extra>\", \"ids\": [\"Rift_Valley_fever\", \"Rift_Valley_fever\"], \"lat\": [23.491, 23.491], \"legendgroup\": \"Rift_Valley_fever\", \"locationmode\": \"country names\", \"locations\": [\"Libya\", \"Libya\"], \"lon\": [22.0634, 22.1634], \"marker\": {\"color\": \"#EF553B\", \"symbol\": \"circle\"}, \"mode\": \"markers\", \"name\": \"Rift_Valley_fever\", \"showlegend\": true, \"type\": \"scattergeo\"}], \"name\": \"2020-03-02\"}, {\"data\": [{\"geo\": \"geo\", \"hovertemplate\": \"disease=Foot_and_mouth_disease<br>animation_frame=2020-03-31<br>latitude=%{lat}<br>longitude=%{lon}<br>country=%{location}<extra></extra>\", \"ids\": [\"Foot_and_mouth_disease\"], \"lat\": [32.70933397], \"legendgroup\": \"Foot_and_mouth_disease\", \"locationmode\": \"country names\", \"locations\": [\"Libya\"], \"lon\": [12.984501400000001], \"marker\": {\"color\": \"#00cc96\", \"symbol\": \"circle\"}, \"mode\": \"markers\", \"name\": \"Foot_and_mouth_disease\", \"showlegend\": true, \"type\": \"scattergeo\"}], \"name\": \"2020-03-31\"}, {\"data\": [{\"geo\": \"geo\", \"hovertemplate\": \"disease=Influenza_Avian<br>animation_frame=2020-04-11<br>latitude=%{lat}<br>longitude=%{lon}<br>country=%{location}<extra></extra>\", \"ids\": [\"Influenza_Avian\"], \"lat\": [32.83736], \"legendgroup\": \"Influenza_Avian\", \"locationmode\": \"country names\", \"locations\": [\"Israel\"], \"lon\": [35.386941], \"marker\": {\"color\": \"#ab63fa\", \"symbol\": \"circle\"}, \"mode\": \"markers\", \"name\": \"Influenza_Avian\", \"showlegend\": true, \"type\": \"scattergeo\"}], \"name\": \"2020-04-11\"}, {\"data\": [{\"geo\": \"geo\", \"hovertemplate\": \"disease=Foot_and_mouth_disease<br>animation_frame=2020-04-19<br>latitude=%{lat}<br>longitude=%{lon}<br>country=%{location}<extra></extra>\", \"ids\": [\"Foot_and_mouth_disease\", \"Foot_and_mouth_disease\"], \"lat\": [32.6242, 32.709942], \"legendgroup\": \"Foot_and_mouth_disease\", \"locationmode\": \"country names\", \"locations\": [\"Libya\", \"Libya\"], \"lon\": [12.8871, 12.987791], \"marker\": {\"color\": \"#00cc96\", \"symbol\": \"circle\"}, \"mode\": \"markers\", \"name\": \"Foot_and_mouth_disease\", \"showlegend\": true, \"type\": \"scattergeo\"}], \"name\": \"2020-04-19\"}, {\"data\": [{\"geo\": \"geo\", \"hovertemplate\": \"disease=Influenza_Avian<br>animation_frame=2020-05-11<br>latitude=%{lat}<br>longitude=%{lon}<br>country=%{location}<extra></extra>\", \"ids\": [\"Influenza_Avian\"], \"lat\": [32.690157], \"legendgroup\": \"Influenza_Avian\", \"locationmode\": \"country names\", \"locations\": [\"Israel\"], \"lon\": [35.194604999999996], \"marker\": {\"color\": \"#ab63fa\", \"symbol\": \"circle\"}, \"mode\": \"markers\", \"name\": \"Influenza_Avian\", \"showlegend\": true, \"type\": \"scattergeo\"}], \"name\": \"2020-05-11\"}, {\"data\": [{\"geo\": \"geo\", \"hovertemplate\": \"disease=Influenza_Avian<br>animation_frame=2020-06-12<br>latitude=%{lat}<br>longitude=%{lon}<br>country=%{location}<extra></extra>\", \"ids\": [\"Influenza_Avian\", \"Influenza_Avian\", \"Influenza_Avian\"], \"lat\": [32.690157, 32.690157, 33.051057], \"legendgroup\": \"Influenza_Avian\", \"locationmode\": \"country names\", \"locations\": [\"Israel\", \"Israel\", \"Israel\"], \"lon\": [35.194604999999996, 35.194604999999996, 35.608884], \"marker\": {\"color\": \"#ab63fa\", \"symbol\": \"circle\"}, \"mode\": \"markers\", \"name\": \"Influenza_Avian\", \"showlegend\": true, \"type\": \"scattergeo\"}], \"name\": \"2020-06-12\"}, {\"data\": [{\"geo\": \"geo\", \"hovertemplate\": \"disease=Peste_des_petits_ruminants<br>animation_frame=2020-07-10<br>latitude=%{lat}<br>longitude=%{lon}<br>country=%{location}<extra></extra>\", \"ids\": [\"Peste_des_petits_ruminants\"], \"lat\": [32.42179], \"legendgroup\": \"Peste_des_petits_ruminants\", \"locationmode\": \"country names\", \"locations\": [\"Libya\"], \"lon\": [12.53315], \"marker\": {\"color\": \"#FFA15A\", \"symbol\": \"circle\"}, \"mode\": \"markers\", \"name\": \"Peste_des_petits_ruminants\", \"showlegend\": true, \"type\": \"scattergeo\"}], \"name\": \"2020-07-10\"}, {\"data\": [{\"geo\": \"geo\", \"hovertemplate\": \"disease=Rift_Valley_fever<br>animation_frame=2020-09-05<br>latitude=%{lat}<br>longitude=%{lon}<br>country=%{location}<extra></extra>\", \"ids\": [\"Rift_Valley_fever\"], \"lat\": [26.1123], \"legendgroup\": \"Rift_Valley_fever\", \"locationmode\": \"country names\", \"locations\": [\"Libya\"], \"lon\": [11.4921], \"marker\": {\"color\": \"#EF553B\", \"symbol\": \"circle\"}, \"mode\": \"markers\", \"name\": \"Rift_Valley_fever\", \"showlegend\": true, \"type\": \"scattergeo\"}], \"name\": \"2020-09-05\"}, {\"data\": [{\"geo\": \"geo\", \"hovertemplate\": \"disease=Foot_and_mouth_disease<br>animation_frame=2020-09-20<br>latitude=%{lat}<br>longitude=%{lon}<br>country=%{location}<extra></extra>\", \"ids\": [\"Foot_and_mouth_disease\"], \"lat\": [32.657], \"legendgroup\": \"Foot_and_mouth_disease\", \"locationmode\": \"country names\", \"locations\": [\"Libya\"], \"lon\": [13.0343], \"marker\": {\"color\": \"#00cc96\", \"symbol\": \"circle\"}, \"mode\": \"markers\", \"name\": \"Foot_and_mouth_disease\", \"showlegend\": true, \"type\": \"scattergeo\"}], \"name\": \"2020-09-20\"}, {\"data\": [{\"geo\": \"geo\", \"hovertemplate\": \"disease=Brucellosis_(Brucella_abortus)<br>animation_frame=2020-09-27<br>latitude=%{lat}<br>longitude=%{lon}<br>country=%{location}<extra></extra>\", \"ids\": [\"Brucellosis_(Brucella_abortus)\"], \"lat\": [32.1777], \"legendgroup\": \"Brucellosis_(Brucella_abortus)\", \"locationmode\": \"country names\", \"locations\": [\"Libya\"], \"lon\": [15.1927], \"marker\": {\"color\": \"#19d3f3\", \"symbol\": \"circle\"}, \"mode\": \"markers\", \"name\": \"Brucellosis_(Brucella_abortus)\", \"showlegend\": true, \"type\": \"scattergeo\"}], \"name\": \"2020-09-27\"}, {\"data\": [{\"geo\": \"geo\", \"hovertemplate\": \"disease=Influenza_Avian<br>animation_frame=2020-10-13<br>latitude=%{lat}<br>longitude=%{lon}<br>country=%{location}<extra></extra>\", \"ids\": [\"Influenza_Avian\"], \"lat\": [32.456501], \"legendgroup\": \"Influenza_Avian\", \"locationmode\": \"country names\", \"locations\": [\"Israel\"], \"lon\": [35.028724], \"marker\": {\"color\": \"#ab63fa\", \"symbol\": \"circle\"}, \"mode\": \"markers\", \"name\": \"Influenza_Avian\", \"showlegend\": true, \"type\": \"scattergeo\"}, {\"geo\": \"geo\", \"hovertemplate\": \"disease=Newcastle_disease<br>animation_frame=2020-10-13<br>latitude=%{lat}<br>longitude=%{lon}<br>country=%{location}<extra></extra>\", \"ids\": [\"Newcastle_disease\", \"Newcastle_disease\", \"Newcastle_disease\", \"Newcastle_disease\", \"Newcastle_disease\", \"Newcastle_disease\", \"Newcastle_disease\", \"Newcastle_disease\"], \"lat\": [32.906406, 33.246735, 32.776607, 31.602752000000002, 32.890158, 31.676256, 31.859997999999997, 31.157922999999997], \"legendgroup\": \"Newcastle_disease\", \"locationmode\": \"country names\", \"locations\": [\"Israel\", \"Israel\", \"Israel\", \"Israel\", \"Israel\", \"Israel\", \"Israel\", \"Israel\"], \"lon\": [35.395525, 35.59798, 35.369632, 34.542497, 35.407245, 34.637934, 34.820659, 35.020679], \"marker\": {\"color\": \"#FF6692\", \"symbol\": \"circle\"}, \"mode\": \"markers\", \"name\": \"Newcastle_disease\", \"showlegend\": true, \"type\": \"scattergeo\"}], \"name\": \"2020-10-13\"}, {\"data\": [{\"geo\": \"geo\", \"hovertemplate\": \"disease=Influenza_Avian<br>animation_frame=2020-10-14<br>latitude=%{lat}<br>longitude=%{lon}<br>country=%{location}<extra></extra>\", \"ids\": [\"Influenza_Avian\"], \"lat\": [31.777611], \"legendgroup\": \"Influenza_Avian\", \"locationmode\": \"country names\", \"locations\": [\"Israel\"], \"lon\": [35.224262], \"marker\": {\"color\": \"#ab63fa\", \"symbol\": \"circle\"}, \"mode\": \"markers\", \"name\": \"Influenza_Avian\", \"showlegend\": true, \"type\": \"scattergeo\"}], \"name\": \"2020-10-14\"}, {\"data\": [{\"geo\": \"geo\", \"hovertemplate\": \"disease=Influenza_Avian<br>animation_frame=2020-10-15<br>latitude=%{lat}<br>longitude=%{lon}<br>country=%{location}<extra></extra>\", \"ids\": [\"Influenza_Avian\"], \"lat\": [31.773415999999997], \"legendgroup\": \"Influenza_Avian\", \"locationmode\": \"country names\", \"locations\": [\"Israel\"], \"lon\": [34.816795], \"marker\": {\"color\": \"#ab63fa\", \"symbol\": \"circle\"}, \"mode\": \"markers\", \"name\": \"Influenza_Avian\", \"showlegend\": true, \"type\": \"scattergeo\"}], \"name\": \"2020-10-15\"}, {\"data\": [{\"geo\": \"geo\", \"hovertemplate\": \"disease=Influenza_Avian<br>animation_frame=2020-10-19<br>latitude=%{lat}<br>longitude=%{lon}<br>country=%{location}<extra></extra>\", \"ids\": [\"Influenza_Avian\"], \"lat\": [32.526042935], \"legendgroup\": \"Influenza_Avian\", \"locationmode\": \"country names\", \"locations\": [\"Israel\"], \"lon\": [35.256354011], \"marker\": {\"color\": \"#ab63fa\", \"symbol\": \"circle\"}, \"mode\": \"markers\", \"name\": \"Influenza_Avian\", \"showlegend\": true, \"type\": \"scattergeo\"}], \"name\": \"2020-10-19\"}, {\"data\": [{\"geo\": \"geo\", \"hovertemplate\": \"disease=Influenza_Avian<br>animation_frame=2020-10-26<br>latitude=%{lat}<br>longitude=%{lon}<br>country=%{location}<extra></extra>\", \"ids\": [\"Influenza_Avian\", \"Influenza_Avian\"], \"lat\": [32.526043, 32.081807], \"legendgroup\": \"Influenza_Avian\", \"locationmode\": \"country names\", \"locations\": [\"Israel\", \"Israel\"], \"lon\": [35.256353999999995, 34.81338], \"marker\": {\"color\": \"#ab63fa\", \"symbol\": \"circle\"}, \"mode\": \"markers\", \"name\": \"Influenza_Avian\", \"showlegend\": true, \"type\": \"scattergeo\"}], \"name\": \"2020-10-26\"}, {\"data\": [{\"geo\": \"geo\", \"hovertemplate\": \"disease=Influenza_Avian<br>animation_frame=2020-10-29<br>latitude=%{lat}<br>longitude=%{lon}<br>country=%{location}<extra></extra>\", \"ids\": [\"Influenza_Avian\"], \"lat\": [32.674828999999995], \"legendgroup\": \"Influenza_Avian\", \"locationmode\": \"country names\", \"locations\": [\"Israel\"], \"lon\": [35.209532], \"marker\": {\"color\": \"#ab63fa\", \"symbol\": \"circle\"}, \"mode\": \"markers\", \"name\": \"Influenza_Avian\", \"showlegend\": true, \"type\": \"scattergeo\"}], \"name\": \"2020-10-29\"}, {\"data\": [{\"geo\": \"geo\", \"hovertemplate\": \"disease=Foot_and_mouth_disease<br>animation_frame=2020-11-30<br>latitude=%{lat}<br>longitude=%{lon}<br>country=%{location}<extra></extra>\", \"ids\": [\"Foot_and_mouth_disease\", \"Foot_and_mouth_disease\"], \"lat\": [32.103223, 32.103223], \"legendgroup\": \"Foot_and_mouth_disease\", \"locationmode\": \"country names\", \"locations\": [\"Libya\", \"Libya\"], \"lon\": [20.103223, 20.103223], \"marker\": {\"color\": \"#00cc96\", \"symbol\": \"circle\"}, \"mode\": \"markers\", \"name\": \"Foot_and_mouth_disease\", \"showlegend\": true, \"type\": \"scattergeo\"}], \"name\": \"2020-11-30\"}, {\"data\": [{\"geo\": \"geo\", \"hovertemplate\": \"disease=Influenza_Avian<br>animation_frame=2020-12-12<br>latitude=%{lat}<br>longitude=%{lon}<br>country=%{location}<extra></extra>\", \"ids\": [\"Influenza_Avian\"], \"lat\": [31.734447999999997], \"legendgroup\": \"Influenza_Avian\", \"locationmode\": \"country names\", \"locations\": [\"Israel\"], \"lon\": [34.997686], \"marker\": {\"color\": \"#ab63fa\", \"symbol\": \"circle\"}, \"mode\": \"markers\", \"name\": \"Influenza_Avian\", \"showlegend\": true, \"type\": \"scattergeo\"}], \"name\": \"2020-12-12\"}, {\"data\": [{\"geo\": \"geo\", \"hovertemplate\": \"disease=Foot_and_mouth_disease<br>animation_frame=2020-12-15<br>latitude=%{lat}<br>longitude=%{lon}<br>country=%{location}<extra></extra>\", \"ids\": [\"Foot_and_mouth_disease\", \"Foot_and_mouth_disease\"], \"lat\": [32.103223, 32.103223], \"legendgroup\": \"Foot_and_mouth_disease\", \"locationmode\": \"country names\", \"locations\": [\"Libya\", \"Libya\"], \"lon\": [20.103223, 20.103223], \"marker\": {\"color\": \"#00cc96\", \"symbol\": \"circle\"}, \"mode\": \"markers\", \"name\": \"Foot_and_mouth_disease\", \"showlegend\": true, \"type\": \"scattergeo\"}], \"name\": \"2020-12-15\"}]);\n",
       "                        }).then(function(){\n",
       "                            \n",
       "var gd = document.getElementById('e1e7b45b-0919-4640-adcd-471f02f066a0');\n",
       "var x = new MutationObserver(function (mutations, observer) {{\n",
       "        var display = window.getComputedStyle(gd).display;\n",
       "        if (!display || display === 'none') {{\n",
       "            console.log([gd, 'removed!']);\n",
       "            Plotly.purge(gd);\n",
       "            observer.disconnect();\n",
       "        }}\n",
       "}});\n",
       "\n",
       "// Listen for the removal of the full notebook cells\n",
       "var notebookContainer = gd.closest('#notebook-container');\n",
       "if (notebookContainer) {{\n",
       "    x.observe(notebookContainer, {childList: true});\n",
       "}}\n",
       "\n",
       "// Listen for the clearing of the current output cell\n",
       "var outputEl = gd.closest('.output');\n",
       "if (outputEl) {{\n",
       "    x.observe(outputEl, {childList: true});\n",
       "}}\n",
       "\n",
       "                        })                };                });            </script>        </div>"
      ]
     },
     "metadata": {},
     "output_type": "display_data"
    }
   ],
   "source": [
    "df_egy = df.query('country in [\"Egypt\",\"Sudan\",\"Libya\",\"Israel\"] and reporting_date > \"2020-1-30\"').sort_values('reporting_date')\n",
    "px.scatter_geo(df_egy,lon='longitude',lat='latitude',\\\n",
    "               locationmode='country names',locations='country',color='disease',animation_group='disease',\\\n",
    "               title = \"Egypt and it's neighbors diseases\",animation_frame=df_egy.reporting_date.astype(str)).show()"
   ]
  },
  {
   "cell_type": "code",
   "execution_count": null,
   "metadata": {},
   "outputs": [],
   "source": [
    "px.choropleth_mapbox()"
   ]
  }
 ],
 "metadata": {
  "celltoolbar": "Slideshow",
  "kernelspec": {
   "display_name": "Python 3",
   "language": "python",
   "name": "python3"
  },
  "language_info": {
   "codemirror_mode": {
    "name": "ipython",
    "version": 3
   },
   "file_extension": ".py",
   "mimetype": "text/x-python",
   "name": "python",
   "nbconvert_exporter": "python",
   "pygments_lexer": "ipython3",
   "version": "3.7.9"
  }
 },
 "nbformat": 4,
 "nbformat_minor": 4
}
