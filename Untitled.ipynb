{
 "cells": [
  {
   "cell_type": "code",
   "execution_count": 1,
   "metadata": {},
   "outputs": [],
   "source": [
    "import pandas as pd"
   ]
  },
  {
   "cell_type": "code",
   "execution_count": 2,
   "metadata": {},
   "outputs": [
    {
     "name": "stderr",
     "output_type": "stream",
     "text": [
      "/home/ahmed-hanafi/anaconda3/lib/python3.7/site-packages/IPython/core/interactiveshell.py:3147: DtypeWarning: Columns (20) have mixed types.Specify dtype option on import or set low_memory=False.\n",
      "  interactivity=interactivity, compiler=compiler, result=result)\n"
     ]
    }
   ],
   "source": [
    "df = pd.read_csv('outbreak_all_data.csv')"
   ]
  },
  {
   "cell_type": "code",
   "execution_count": 4,
   "metadata": {},
   "outputs": [
    {
     "name": "stdout",
     "output_type": "stream",
     "text": [
      "<class 'pandas.core.frame.DataFrame'>\n",
      "RangeIndex: 89693 entries, 0 to 89692\n",
      "Data columns (total 24 columns):\n",
      " #   Column               Non-Null Count  Dtype  \n",
      "---  ------               --------------  -----  \n",
      " 0   id                   89693 non-null  int64  \n",
      " 1   source               89693 non-null  object \n",
      " 2   latitude             89693 non-null  float64\n",
      " 3   longitude            89693 non-null  float64\n",
      " 4   region               89693 non-null  object \n",
      " 5   country              89693 non-null  object \n",
      " 6   admin1               89693 non-null  object \n",
      " 7   locality_name        89693 non-null  object \n",
      " 8   locality_quality     89693 non-null  object \n",
      " 9   observation_date     81289 non-null  object \n",
      " 10  reporting_date       89693 non-null  object \n",
      " 11  status               89693 non-null  object \n",
      " 12  disease              89693 non-null  object \n",
      " 13  serotypes            49429 non-null  object \n",
      " 14  species_description  84235 non-null  object \n",
      " 15  sum_at_risk          49375 non-null  float64\n",
      " 16  sum_cases            67092 non-null  float64\n",
      " 17  sum_deaths           61942 non-null  float64\n",
      " 18  sum_destroyed        53398 non-null  float64\n",
      " 19  sum_slaughtered      39758 non-null  float64\n",
      " 20  humans_gender_desc   829 non-null    object \n",
      " 21  humans_age           4870 non-null   float64\n",
      " 22  humans_affected      5449 non-null   float64\n",
      " 23  humans_deaths        2090 non-null   float64\n",
      "dtypes: float64(10), int64(1), object(13)\n",
      "memory usage: 16.4+ MB\n"
     ]
    }
   ],
   "source": [
    "df.info()"
   ]
  },
  {
   "cell_type": "code",
   "execution_count": 11,
   "metadata": {},
   "outputs": [
    {
     "data": {
      "text/plain": [
       "'31/12/2019'"
      ]
     },
     "execution_count": 11,
     "metadata": {},
     "output_type": "execute_result"
    }
   ],
   "source": [
    "df.reporting_date.max()"
   ]
  },
  {
   "cell_type": "code",
   "execution_count": 12,
   "metadata": {},
   "outputs": [
    {
     "data": {
      "text/plain": [
       "'01/01/2004'"
      ]
     },
     "execution_count": 12,
     "metadata": {},
     "output_type": "execute_result"
    }
   ],
   "source": [
    "df.reporting_date.min()"
   ]
  },
  {
   "cell_type": "code",
   "execution_count": 34,
   "metadata": {},
   "outputs": [
    {
     "data": {
      "text/plain": [
       "Timestamp('2004-01-01 00:00:00')"
      ]
     },
     "execution_count": 34,
     "metadata": {},
     "output_type": "execute_result"
    }
   ],
   "source": [
    "pd.to_datetime(df.reporting_date,dayfirst=True).min()"
   ]
  },
  {
   "cell_type": "code",
   "execution_count": 33,
   "metadata": {},
   "outputs": [
    {
     "data": {
      "text/plain": [
       "Timestamp('2020-03-16 00:00:00')"
      ]
     },
     "execution_count": 33,
     "metadata": {},
     "output_type": "execute_result"
    }
   ],
   "source": [
    "pd.to_datetime(df.reporting_date,dayfirst=True).max()"
   ]
  },
  {
   "cell_type": "code",
   "execution_count": 32,
   "metadata": {},
   "outputs": [
    {
     "data": {
      "text/plain": [
       "80711   2004-01-01\n",
       "80416   2004-01-01\n",
       "81495   2004-01-01\n",
       "79657   2004-01-01\n",
       "81472   2004-01-01\n",
       "           ...    \n",
       "89640   2020-03-13\n",
       "89641   2020-03-13\n",
       "89623   2020-03-13\n",
       "89610   2020-03-14\n",
       "89643   2020-03-16\n",
       "Name: reporting_date, Length: 89693, dtype: datetime64[ns]"
      ]
     },
     "execution_count": 32,
     "metadata": {},
     "output_type": "execute_result"
    }
   ],
   "source": [
    "pd.to_datetime(df.reporting_date,dayfirst=True).sort_values()"
   ]
  },
  {
   "cell_type": "code",
   "execution_count": 31,
   "metadata": {},
   "outputs": [
    {
     "data": {
      "text/plain": [
       "0       2020-02-27\n",
       "1       2020-03-03\n",
       "2       2020-03-05\n",
       "3       2020-03-03\n",
       "4       2020-03-03\n",
       "           ...    \n",
       "89688   2020-03-10\n",
       "89689   2020-03-10\n",
       "89690   2020-03-08\n",
       "89691   2020-03-07\n",
       "89692   2020-03-12\n",
       "Name: reporting_date, Length: 89693, dtype: datetime64[ns]"
      ]
     },
     "execution_count": 31,
     "metadata": {},
     "output_type": "execute_result"
    }
   ],
   "source": [
    "pd.to_datetime(df.reporting_date,dayfirst=True)"
   ]
  },
  {
   "cell_type": "code",
   "execution_count": 30,
   "metadata": {},
   "outputs": [
    {
     "data": {
      "text/plain": [
       "89688    10/03/2020\n",
       "89689    10/03/2020\n",
       "89690    08/03/2020\n",
       "89691    07/03/2020\n",
       "89692    12/03/2020\n",
       "Name: reporting_date, dtype: object"
      ]
     },
     "execution_count": 30,
     "metadata": {},
     "output_type": "execute_result"
    }
   ],
   "source": [
    "df.reporting_date.tail()"
   ]
  },
  {
   "cell_type": "code",
   "execution_count": 36,
   "metadata": {},
   "outputs": [
    {
     "data": {
      "text/plain": [
       "266752"
      ]
     },
     "execution_count": 36,
     "metadata": {},
     "output_type": "execute_result"
    }
   ],
   "source": []
  },
  {
   "cell_type": "code",
   "execution_count": null,
   "metadata": {},
   "outputs": [],
   "source": []
  }
 ],
 "metadata": {
  "kernelspec": {
   "display_name": "Python 3",
   "language": "python",
   "name": "python3"
  },
  "language_info": {
   "codemirror_mode": {
    "name": "ipython",
    "version": 3
   },
   "file_extension": ".py",
   "mimetype": "text/x-python",
   "name": "python",
   "nbconvert_exporter": "python",
   "pygments_lexer": "ipython3",
   "version": "3.7.9"
  }
 },
 "nbformat": 4,
 "nbformat_minor": 4
}
