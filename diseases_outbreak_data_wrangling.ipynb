{
 "cells": [
  {
   "cell_type": "markdown",
   "metadata": {},
   "source": [
    "# diseases_outbreak_data_wrangling"
   ]
  },
  {
   "cell_type": "markdown",
   "metadata": {},
   "source": [
    "The data could not be downloaded as one file, so I had to download it as 18 separate files stored in `outbreak_separate` folder.\n",
    "let's loop through them and collect them in one clean file"
   ]
  },
  {
   "cell_type": "markdown",
   "metadata": {},
   "source": [
    "## data gathering\n",
    "in this step we import data to one data frame"
   ]
  },
  {
   "cell_type": "code",
   "execution_count": 1,
   "metadata": {},
   "outputs": [],
   "source": [
    "import pandas as pd\n",
    "import matplotlib.pyplot as plt"
   ]
  },
  {
   "cell_type": "code",
   "execution_count": 2,
   "metadata": {},
   "outputs": [],
   "source": [
    "df = pd.DataFrame()"
   ]
  },
  {
   "cell_type": "code",
   "execution_count": 3,
   "metadata": {},
   "outputs": [],
   "source": [
    "for i in range (1,19):\n",
    "    file_dir = 'outbreak_separate/Outbreak_list'+str(i)+'.csv'\n",
    "    temp_df = pd.read_csv(file_dir ,float_precision = 'high')\n",
    "    df = df.append(temp_df)"
   ]
  },
  {
   "cell_type": "markdown",
   "metadata": {},
   "source": [
    "## data assessing and cleaning\n",
    "in this step we look at the data to see problems or any thing that could be made better"
   ]
  },
  {
   "cell_type": "code",
   "execution_count": 14,
   "metadata": {
    "scrolled": true
   },
   "outputs": [
    {
     "name": "stdout",
     "output_type": "stream",
     "text": [
      "this data set has 24 columns and 89610 rows\n"
     ]
    }
   ],
   "source": [
    "print ('this data set has '+ str(df.shape[1]) +' columns and ' + str(df.shape[0]) + ' rows')"
   ]
  },
  {
   "cell_type": "code",
   "execution_count": 15,
   "metadata": {},
   "outputs": [
    {
     "name": "stdout",
     "output_type": "stream",
     "text": [
      "<class 'pandas.core.frame.DataFrame'>\n",
      "Int64Index: 89610 entries, 0 to 4609\n",
      "Data columns (total 24 columns):\n",
      "Id                    89610 non-null int64\n",
      "source                89610 non-null object\n",
      "latitude              89610 non-null float64\n",
      "longitude             89610 non-null float64\n",
      "region                89610 non-null object\n",
      "country               89610 non-null object\n",
      "admin1                89610 non-null object\n",
      "localityName          89610 non-null object\n",
      "localityQuality       89610 non-null object\n",
      "observationDate       81211 non-null object\n",
      "reportingDate         89610 non-null object\n",
      "status                89610 non-null object\n",
      "disease               89610 non-null object\n",
      "serotypes             49424 non-null object\n",
      "speciesDescription    84157 non-null object\n",
      "sumAtRisk             49369 non-null float64\n",
      "sumCases              67014 non-null float64\n",
      "sumDeaths             61866 non-null float64\n",
      "sumDestroyed          53394 non-null float64\n",
      "sumSlaughtered        39758 non-null float64\n",
      "humansGenderDesc      829 non-null object\n",
      "humansAge             4867 non-null float64\n",
      "humansAffected        5444 non-null float64\n",
      "humansDeaths          2090 non-null float64\n",
      "dtypes: float64(10), int64(1), object(13)\n",
      "memory usage: 17.1+ MB\n"
     ]
    }
   ],
   "source": [
    "df.info()"
   ]
  },
  {
   "cell_type": "markdown",
   "metadata": {},
   "source": [
    "we will start by renaming the columns"
   ]
  },
  {
   "cell_type": "code",
   "execution_count": 17,
   "metadata": {},
   "outputs": [],
   "source": [
    "df.rename(columns= {'Id' : 'id',\n",
    "                    'localityName' : 'locality_name',\n",
    "                    'localityQuality' : 'locality_quality',\n",
    "                    'observationDate' : 'observation_date',\n",
    "                    'reportingDate' : 'reporting_date',\n",
    "                    'speciesDescription' : 'species_description',\n",
    "                    'sumAtRisk' : 'sum_at_risk',\n",
    "                    'sumCases' : 'sum_cases',\n",
    "                    'sumDeaths' : 'sum_deaths',\n",
    "                    'sumDestroyed' : 'sum_destroyed',\n",
    "                    'sumSlaughtered' : 'sum_slaughtered',\n",
    "                    'humansGenderDesc' : 'humans_gender_desc',\n",
    "                    'humansAge' : 'humans_age',\n",
    "                    'humansAffected' : 'humans_affected',\n",
    "                    'humansDeaths' : 'humans_deaths'} , inplace= True)"
   ]
  },
  {
   "cell_type": "code",
   "execution_count": 18,
   "metadata": {},
   "outputs": [
    {
     "name": "stdout",
     "output_type": "stream",
     "text": [
      "<class 'pandas.core.frame.DataFrame'>\n",
      "Int64Index: 89610 entries, 0 to 4609\n",
      "Data columns (total 24 columns):\n",
      "id                     89610 non-null int64\n",
      "source                 89610 non-null object\n",
      "latitude               89610 non-null float64\n",
      "longitude              89610 non-null float64\n",
      "region                 89610 non-null object\n",
      "country                89610 non-null object\n",
      "admin1                 89610 non-null object\n",
      "locality_name          89610 non-null object\n",
      "locality_quality       89610 non-null object\n",
      "observation_date       81211 non-null object\n",
      "reporting_date         89610 non-null object\n",
      "status                 89610 non-null object\n",
      "disease                89610 non-null object\n",
      "serotypes              49424 non-null object\n",
      "species_description    84157 non-null object\n",
      "sum_at_risk            49369 non-null float64\n",
      "sum_cases              67014 non-null float64\n",
      "sum_deaths             61866 non-null float64\n",
      "sum_destroyed          53394 non-null float64\n",
      "sum_slaughtered        39758 non-null float64\n",
      "humans_gender_desc     829 non-null object\n",
      "humans_age             4867 non-null float64\n",
      "humans_affected        5444 non-null float64\n",
      "humans_deaths          2090 non-null float64\n",
      "dtypes: float64(10), int64(1), object(13)\n",
      "memory usage: 17.1+ MB\n"
     ]
    }
   ],
   "source": [
    "df.info()"
   ]
  },
  {
   "cell_type": "code",
   "execution_count": 34,
   "metadata": {},
   "outputs": [
    {
     "data": {
      "text/html": [
       "<div>\n",
       "<style scoped>\n",
       "    .dataframe tbody tr th:only-of-type {\n",
       "        vertical-align: middle;\n",
       "    }\n",
       "\n",
       "    .dataframe tbody tr th {\n",
       "        vertical-align: top;\n",
       "    }\n",
       "\n",
       "    .dataframe thead th {\n",
       "        text-align: right;\n",
       "    }\n",
       "</style>\n",
       "<table border=\"1\" class=\"dataframe\">\n",
       "  <thead>\n",
       "    <tr style=\"text-align: right;\">\n",
       "      <th></th>\n",
       "      <th>id</th>\n",
       "      <th>source</th>\n",
       "      <th>latitude</th>\n",
       "      <th>longitude</th>\n",
       "      <th>region</th>\n",
       "      <th>country</th>\n",
       "      <th>admin1</th>\n",
       "      <th>locality_name</th>\n",
       "      <th>locality_quality</th>\n",
       "      <th>observation_date</th>\n",
       "      <th>...</th>\n",
       "      <th>species_description</th>\n",
       "      <th>sum_at_risk</th>\n",
       "      <th>sum_cases</th>\n",
       "      <th>sum_deaths</th>\n",
       "      <th>sum_destroyed</th>\n",
       "      <th>sum_slaughtered</th>\n",
       "      <th>humans_gender_desc</th>\n",
       "      <th>humans_age</th>\n",
       "      <th>humans_affected</th>\n",
       "      <th>humans_deaths</th>\n",
       "    </tr>\n",
       "  </thead>\n",
       "  <tbody>\n",
       "    <tr>\n",
       "      <td>0</td>\n",
       "      <td>266234</td>\n",
       "      <td>National authorities</td>\n",
       "      <td>38.081036</td>\n",
       "      <td>126.926559</td>\n",
       "      <td>Asia</td>\n",
       "      <td>Republic of Korea</td>\n",
       "      <td>Kyonggi-do</td>\n",
       "      <td>Seokjang-ri</td>\n",
       "      <td>Unknown</td>\n",
       "      <td>15/02/2020</td>\n",
       "      <td>...</td>\n",
       "      <td>wild, wild boar</td>\n",
       "      <td>NaN</td>\n",
       "      <td>1.0</td>\n",
       "      <td>1.0</td>\n",
       "      <td>NaN</td>\n",
       "      <td>NaN</td>\n",
       "      <td>NaN</td>\n",
       "      <td>0.0</td>\n",
       "      <td>NaN</td>\n",
       "      <td>NaN</td>\n",
       "    </tr>\n",
       "    <tr>\n",
       "      <td>1</td>\n",
       "      <td>266232</td>\n",
       "      <td>National authorities</td>\n",
       "      <td>31.757770</td>\n",
       "      <td>110.774160</td>\n",
       "      <td>Asia</td>\n",
       "      <td>China</td>\n",
       "      <td>Hubei Sheng</td>\n",
       "      <td>Qingquan Village,Songbai Township,</td>\n",
       "      <td>Exact</td>\n",
       "      <td>01/03/2020</td>\n",
       "      <td>...</td>\n",
       "      <td>wild, wild boar</td>\n",
       "      <td>NaN</td>\n",
       "      <td>2.0</td>\n",
       "      <td>2.0</td>\n",
       "      <td>NaN</td>\n",
       "      <td>NaN</td>\n",
       "      <td>NaN</td>\n",
       "      <td>0.0</td>\n",
       "      <td>NaN</td>\n",
       "      <td>NaN</td>\n",
       "    </tr>\n",
       "    <tr>\n",
       "      <td>2</td>\n",
       "      <td>266231</td>\n",
       "      <td>National authorities</td>\n",
       "      <td>24.140000</td>\n",
       "      <td>47.300000</td>\n",
       "      <td>Asia</td>\n",
       "      <td>Saudi Arabia</td>\n",
       "      <td>Riyad</td>\n",
       "      <td>Al KAaConfirmed MERS-CoV in a human in Saudi A...</td>\n",
       "      <td>Centroid Admin1</td>\n",
       "      <td>NaN</td>\n",
       "      <td>...</td>\n",
       "      <td>NaN</td>\n",
       "      <td>NaN</td>\n",
       "      <td>NaN</td>\n",
       "      <td>NaN</td>\n",
       "      <td>NaN</td>\n",
       "      <td>NaN</td>\n",
       "      <td>Male</td>\n",
       "      <td>39.0</td>\n",
       "      <td>1.0</td>\n",
       "      <td>NaN</td>\n",
       "    </tr>\n",
       "    <tr>\n",
       "      <td>3</td>\n",
       "      <td>266188</td>\n",
       "      <td>OIE</td>\n",
       "      <td>24.254960</td>\n",
       "      <td>97.343550</td>\n",
       "      <td>Asia</td>\n",
       "      <td>Myanmar</td>\n",
       "      <td>Kachin</td>\n",
       "      <td>Dokphoneyan, Ward 1</td>\n",
       "      <td>Exact</td>\n",
       "      <td>22/02/2020</td>\n",
       "      <td>...</td>\n",
       "      <td>domestic, swine</td>\n",
       "      <td>365.0</td>\n",
       "      <td>3.0</td>\n",
       "      <td>3.0</td>\n",
       "      <td>0.0</td>\n",
       "      <td>NaN</td>\n",
       "      <td>NaN</td>\n",
       "      <td>NaN</td>\n",
       "      <td>NaN</td>\n",
       "      <td>NaN</td>\n",
       "    </tr>\n",
       "    <tr>\n",
       "      <td>4</td>\n",
       "      <td>266187</td>\n",
       "      <td>OIE</td>\n",
       "      <td>49.773761</td>\n",
       "      <td>5.504076</td>\n",
       "      <td>Europe</td>\n",
       "      <td>Belgium</td>\n",
       "      <td>Region wallonne</td>\n",
       "      <td>Leglise</td>\n",
       "      <td>Exact</td>\n",
       "      <td>21/02/2020</td>\n",
       "      <td>...</td>\n",
       "      <td>wild, unspecified mammal</td>\n",
       "      <td>NaN</td>\n",
       "      <td>1.0</td>\n",
       "      <td>1.0</td>\n",
       "      <td>NaN</td>\n",
       "      <td>NaN</td>\n",
       "      <td>NaN</td>\n",
       "      <td>NaN</td>\n",
       "      <td>NaN</td>\n",
       "      <td>NaN</td>\n",
       "    </tr>\n",
       "  </tbody>\n",
       "</table>\n",
       "<p>5 rows × 24 columns</p>\n",
       "</div>"
      ],
      "text/plain": [
       "       id                source   latitude   longitude  region  \\\n",
       "0  266234  National authorities  38.081036  126.926559    Asia   \n",
       "1  266232  National authorities  31.757770  110.774160    Asia   \n",
       "2  266231  National authorities  24.140000   47.300000    Asia   \n",
       "3  266188                   OIE  24.254960   97.343550    Asia   \n",
       "4  266187                   OIE  49.773761    5.504076  Europe   \n",
       "\n",
       "             country           admin1  \\\n",
       "0  Republic of Korea       Kyonggi-do   \n",
       "1              China      Hubei Sheng   \n",
       "2       Saudi Arabia            Riyad   \n",
       "3            Myanmar           Kachin   \n",
       "4            Belgium  Region wallonne   \n",
       "\n",
       "                                       locality_name locality_quality  \\\n",
       "0                                       Seokjang-ri           Unknown   \n",
       "1                Qingquan Village,Songbai Township,             Exact   \n",
       "2  Al KAaConfirmed MERS-CoV in a human in Saudi A...  Centroid Admin1   \n",
       "3                                Dokphoneyan, Ward 1            Exact   \n",
       "4                                            Leglise            Exact   \n",
       "\n",
       "  observation_date  ...       species_description sum_at_risk sum_cases  \\\n",
       "0       15/02/2020  ...           wild, wild boar         NaN       1.0   \n",
       "1       01/03/2020  ...           wild, wild boar         NaN       2.0   \n",
       "2              NaN  ...                       NaN         NaN       NaN   \n",
       "3       22/02/2020  ...           domestic, swine       365.0       3.0   \n",
       "4       21/02/2020  ...  wild, unspecified mammal         NaN       1.0   \n",
       "\n",
       "  sum_deaths sum_destroyed  sum_slaughtered  humans_gender_desc  humans_age  \\\n",
       "0        1.0           NaN              NaN                 NaN         0.0   \n",
       "1        2.0           NaN              NaN                 NaN         0.0   \n",
       "2        NaN           NaN              NaN                Male        39.0   \n",
       "3        3.0           0.0              NaN                 NaN         NaN   \n",
       "4        1.0           NaN              NaN                 NaN         NaN   \n",
       "\n",
       "   humans_affected  humans_deaths  \n",
       "0              NaN            NaN  \n",
       "1              NaN            NaN  \n",
       "2              1.0            NaN  \n",
       "3              NaN            NaN  \n",
       "4              NaN            NaN  \n",
       "\n",
       "[5 rows x 24 columns]"
      ]
     },
     "execution_count": 34,
     "metadata": {},
     "output_type": "execute_result"
    }
   ],
   "source": [
    "df.head()"
   ]
  },
  {
   "cell_type": "code",
   "execution_count": 30,
   "metadata": {},
   "outputs": [],
   "source": [
    "df.to_csv('outbreak_all_data.csv',index= False)"
   ]
  }
 ],
 "metadata": {
  "kernelspec": {
   "display_name": "Python 3",
   "language": "python",
   "name": "python3"
  },
  "language_info": {
   "codemirror_mode": {
    "name": "ipython",
    "version": 3
   },
   "file_extension": ".py",
   "mimetype": "text/x-python",
   "name": "python",
   "nbconvert_exporter": "python",
   "pygments_lexer": "ipython3",
   "version": "3.7.4"
  }
 },
 "nbformat": 4,
 "nbformat_minor": 2
}
