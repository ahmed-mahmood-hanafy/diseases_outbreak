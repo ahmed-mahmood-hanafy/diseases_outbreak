{
 "cells": [
  {
   "cell_type": "markdown",
   "metadata": {},
   "source": [
    "# diseases_outbreak_data_wrangling"
   ]
  },
  {
   "cell_type": "markdown",
   "metadata": {},
   "source": [
    "The data could not be downloaded as one file, so I had to download it as 18 separate files stored in `outbreak_separate` folder.\n",
    "let's loop through them and collect them in one clean file"
   ]
  },
  {
   "cell_type": "markdown",
   "metadata": {},
   "source": [
    "## data gathering\n",
    "in this step we import data to one data frame"
   ]
  },
  {
   "cell_type": "code",
   "execution_count": 2,
   "metadata": {},
   "outputs": [],
   "source": [
    "import pandas as pd\n",
    "import matplotlib.pyplot as plt"
   ]
  },
  {
   "cell_type": "code",
   "execution_count": 3,
   "metadata": {},
   "outputs": [],
   "source": [
    "df = pd.DataFrame()"
   ]
  },
  {
   "cell_type": "code",
   "execution_count": 4,
   "metadata": {},
   "outputs": [],
   "source": [
    "for i in range (1,19):\n",
    "    file_dir = 'outbreak_separate_new/Outbreak_list'+str(i)+'.csv'\n",
    "    temp_df = pd.read_csv(file_dir ,float_precision = 'high')\n",
    "    df = df.append(temp_df)"
   ]
  },
  {
   "cell_type": "markdown",
   "metadata": {},
   "source": [
    "## data assessing and cleaning\n",
    "in this step we look at the data to see problems or any thing that could be made better"
   ]
  },
  {
   "cell_type": "code",
   "execution_count": 5,
   "metadata": {
    "scrolled": true
   },
   "outputs": [
    {
     "name": "stdout",
     "output_type": "stream",
     "text": [
      "this data set has 24 columns and 90000 rows\n"
     ]
    }
   ],
   "source": [
    "print ('this data set has '+ str(df.shape[1]) +' columns and ' + str(df.shape[0]) + ' rows')"
   ]
  },
  {
   "cell_type": "code",
   "execution_count": 6,
   "metadata": {},
   "outputs": [
    {
     "name": "stdout",
     "output_type": "stream",
     "text": [
      "<class 'pandas.core.frame.DataFrame'>\n",
      "Int64Index: 90000 entries, 0 to 4999\n",
      "Data columns (total 24 columns):\n",
      " #   Column              Non-Null Count  Dtype  \n",
      "---  ------              --------------  -----  \n",
      " 0   Id                  90000 non-null  int64  \n",
      " 1   source              90000 non-null  object \n",
      " 2   latitude            90000 non-null  float64\n",
      " 3   longitude           90000 non-null  float64\n",
      " 4   region              90000 non-null  object \n",
      " 5   country             90000 non-null  object \n",
      " 6   admin1              90000 non-null  object \n",
      " 7   localityName        90000 non-null  object \n",
      " 8   localityQuality     90000 non-null  object \n",
      " 9   observationDate     81345 non-null  object \n",
      " 10  reportingDate       90000 non-null  object \n",
      " 11  status              90000 non-null  object \n",
      " 12  disease             90000 non-null  object \n",
      " 13  serotypes           41900 non-null  object \n",
      " 14  speciesDescription  84644 non-null  object \n",
      " 15  sumAtRisk           47726 non-null  float64\n",
      " 16  sumCases            73216 non-null  float64\n",
      " 17  sumDeaths           65316 non-null  float64\n",
      " 18  sumDestroyed        52675 non-null  float64\n",
      " 19  sumSlaughtered      37521 non-null  float64\n",
      " 20  humansGenderDesc    864 non-null    object \n",
      " 21  humansAge           5476 non-null   float64\n",
      " 22  humansAffected      5338 non-null   float64\n",
      " 23  humansDeaths        2039 non-null   float64\n",
      "dtypes: float64(10), int64(1), object(13)\n",
      "memory usage: 17.2+ MB\n"
     ]
    }
   ],
   "source": [
    "df.info()"
   ]
  },
  {
   "cell_type": "markdown",
   "metadata": {},
   "source": [
    "we will start by renaming the columns"
   ]
  },
  {
   "cell_type": "code",
   "execution_count": 7,
   "metadata": {},
   "outputs": [],
   "source": [
    "df.rename(columns= {'Id' : 'id',\n",
    "                    'localityName' : 'locality_name',\n",
    "                    'localityQuality' : 'locality_quality',\n",
    "                    'observationDate' : 'observation_date',\n",
    "                    'reportingDate' : 'reporting_date',\n",
    "                    'speciesDescription' : 'species_description',\n",
    "                    'sumAtRisk' : 'sum_at_risk',\n",
    "                    'sumCases' : 'sum_cases',\n",
    "                    'sumDeaths' : 'sum_deaths',\n",
    "                    'sumDestroyed' : 'sum_destroyed',\n",
    "                    'sumSlaughtered' : 'sum_slaughtered',\n",
    "                    'humansGenderDesc' : 'humans_gender_desc',\n",
    "                    'humansAge' : 'humans_age',\n",
    "                    'humansAffected' : 'humans_affected',\n",
    "                    'humansDeaths' : 'humans_deaths'} , inplace= True)"
   ]
  },
  {
   "cell_type": "code",
   "execution_count": 8,
   "metadata": {},
   "outputs": [
    {
     "name": "stdout",
     "output_type": "stream",
     "text": [
      "<class 'pandas.core.frame.DataFrame'>\n",
      "Int64Index: 90000 entries, 0 to 4999\n",
      "Data columns (total 24 columns):\n",
      " #   Column               Non-Null Count  Dtype  \n",
      "---  ------               --------------  -----  \n",
      " 0   id                   90000 non-null  int64  \n",
      " 1   source               90000 non-null  object \n",
      " 2   latitude             90000 non-null  float64\n",
      " 3   longitude            90000 non-null  float64\n",
      " 4   region               90000 non-null  object \n",
      " 5   country              90000 non-null  object \n",
      " 6   admin1               90000 non-null  object \n",
      " 7   locality_name        90000 non-null  object \n",
      " 8   locality_quality     90000 non-null  object \n",
      " 9   observation_date     81345 non-null  object \n",
      " 10  reporting_date       90000 non-null  object \n",
      " 11  status               90000 non-null  object \n",
      " 12  disease              90000 non-null  object \n",
      " 13  serotypes            41900 non-null  object \n",
      " 14  species_description  84644 non-null  object \n",
      " 15  sum_at_risk          47726 non-null  float64\n",
      " 16  sum_cases            73216 non-null  float64\n",
      " 17  sum_deaths           65316 non-null  float64\n",
      " 18  sum_destroyed        52675 non-null  float64\n",
      " 19  sum_slaughtered      37521 non-null  float64\n",
      " 20  humans_gender_desc   864 non-null    object \n",
      " 21  humans_age           5476 non-null   float64\n",
      " 22  humans_affected      5338 non-null   float64\n",
      " 23  humans_deaths        2039 non-null   float64\n",
      "dtypes: float64(10), int64(1), object(13)\n",
      "memory usage: 17.2+ MB\n"
     ]
    }
   ],
   "source": [
    "df.info()"
   ]
  },
  {
   "cell_type": "code",
   "execution_count": 9,
   "metadata": {},
   "outputs": [
    {
     "data": {
      "text/html": [
       "<div>\n",
       "<style scoped>\n",
       "    .dataframe tbody tr th:only-of-type {\n",
       "        vertical-align: middle;\n",
       "    }\n",
       "\n",
       "    .dataframe tbody tr th {\n",
       "        vertical-align: top;\n",
       "    }\n",
       "\n",
       "    .dataframe thead th {\n",
       "        text-align: right;\n",
       "    }\n",
       "</style>\n",
       "<table border=\"1\" class=\"dataframe\">\n",
       "  <thead>\n",
       "    <tr style=\"text-align: right;\">\n",
       "      <th></th>\n",
       "      <th>id</th>\n",
       "      <th>source</th>\n",
       "      <th>latitude</th>\n",
       "      <th>longitude</th>\n",
       "      <th>region</th>\n",
       "      <th>country</th>\n",
       "      <th>admin1</th>\n",
       "      <th>locality_name</th>\n",
       "      <th>locality_quality</th>\n",
       "      <th>observation_date</th>\n",
       "      <th>...</th>\n",
       "      <th>species_description</th>\n",
       "      <th>sum_at_risk</th>\n",
       "      <th>sum_cases</th>\n",
       "      <th>sum_deaths</th>\n",
       "      <th>sum_destroyed</th>\n",
       "      <th>sum_slaughtered</th>\n",
       "      <th>humans_gender_desc</th>\n",
       "      <th>humans_age</th>\n",
       "      <th>humans_affected</th>\n",
       "      <th>humans_deaths</th>\n",
       "    </tr>\n",
       "  </thead>\n",
       "  <tbody>\n",
       "    <tr>\n",
       "      <th>0</th>\n",
       "      <td>284948</td>\n",
       "      <td>OIE</td>\n",
       "      <td>52.03</td>\n",
       "      <td>14.60</td>\n",
       "      <td>Europe</td>\n",
       "      <td>Germany</td>\n",
       "      <td>Brandenburg</td>\n",
       "      <td>\\tSchenkendöbern</td>\n",
       "      <td>Exact</td>\n",
       "      <td>15/12/2020</td>\n",
       "      <td>...</td>\n",
       "      <td>wild,wild boar:sus scrofa (suidae))</td>\n",
       "      <td>NaN</td>\n",
       "      <td>2.0</td>\n",
       "      <td>2.0</td>\n",
       "      <td>NaN</td>\n",
       "      <td>NaN</td>\n",
       "      <td>NaN</td>\n",
       "      <td>0.0</td>\n",
       "      <td>NaN</td>\n",
       "      <td>NaN</td>\n",
       "    </tr>\n",
       "    <tr>\n",
       "      <th>1</th>\n",
       "      <td>284947</td>\n",
       "      <td>National authorities</td>\n",
       "      <td>52.60</td>\n",
       "      <td>14.59</td>\n",
       "      <td>Europe</td>\n",
       "      <td>Germany</td>\n",
       "      <td>Brandenburg</td>\n",
       "      <td>Bleyen-Genschmar</td>\n",
       "      <td>Exact</td>\n",
       "      <td>16/12/2020</td>\n",
       "      <td>...</td>\n",
       "      <td>wild,wild boar:sus scrofa (suidae))</td>\n",
       "      <td>NaN</td>\n",
       "      <td>2.0</td>\n",
       "      <td>2.0</td>\n",
       "      <td>NaN</td>\n",
       "      <td>NaN</td>\n",
       "      <td>NaN</td>\n",
       "      <td>0.0</td>\n",
       "      <td>NaN</td>\n",
       "      <td>NaN</td>\n",
       "    </tr>\n",
       "    <tr>\n",
       "      <th>2</th>\n",
       "      <td>284945</td>\n",
       "      <td>OIE</td>\n",
       "      <td>52.07</td>\n",
       "      <td>14.54</td>\n",
       "      <td>Europe</td>\n",
       "      <td>Germany</td>\n",
       "      <td>Brandenburg</td>\n",
       "      <td>Neuzelle</td>\n",
       "      <td>Exact</td>\n",
       "      <td>10/12/2020</td>\n",
       "      <td>...</td>\n",
       "      <td>wild,wild boar:sus scrofa (suidae))</td>\n",
       "      <td>18.0</td>\n",
       "      <td>16.0</td>\n",
       "      <td>2.0</td>\n",
       "      <td>NaN</td>\n",
       "      <td>NaN</td>\n",
       "      <td>NaN</td>\n",
       "      <td>0.0</td>\n",
       "      <td>NaN</td>\n",
       "      <td>NaN</td>\n",
       "    </tr>\n",
       "    <tr>\n",
       "      <th>3</th>\n",
       "      <td>284944</td>\n",
       "      <td>OIE</td>\n",
       "      <td>52.14</td>\n",
       "      <td>14.43</td>\n",
       "      <td>Europe</td>\n",
       "      <td>Germany</td>\n",
       "      <td>Brandenburg</td>\n",
       "      <td>Grunow-Dammendorf</td>\n",
       "      <td>Exact</td>\n",
       "      <td>10/12/2020</td>\n",
       "      <td>...</td>\n",
       "      <td>wild,wild boar:sus scrofa (suidae))</td>\n",
       "      <td>NaN</td>\n",
       "      <td>2.0</td>\n",
       "      <td>2.0</td>\n",
       "      <td>NaN</td>\n",
       "      <td>NaN</td>\n",
       "      <td>NaN</td>\n",
       "      <td>0.0</td>\n",
       "      <td>NaN</td>\n",
       "      <td>NaN</td>\n",
       "    </tr>\n",
       "    <tr>\n",
       "      <th>4</th>\n",
       "      <td>284943</td>\n",
       "      <td>OIE</td>\n",
       "      <td>52.10</td>\n",
       "      <td>14.42</td>\n",
       "      <td>Europe</td>\n",
       "      <td>Germany</td>\n",
       "      <td>Brandenburg</td>\n",
       "      <td>Friedland</td>\n",
       "      <td>Exact</td>\n",
       "      <td>10/12/2020</td>\n",
       "      <td>...</td>\n",
       "      <td>wild,wild boar:sus scrofa (suidae))</td>\n",
       "      <td>21.0</td>\n",
       "      <td>17.0</td>\n",
       "      <td>4.0</td>\n",
       "      <td>NaN</td>\n",
       "      <td>NaN</td>\n",
       "      <td>NaN</td>\n",
       "      <td>0.0</td>\n",
       "      <td>NaN</td>\n",
       "      <td>NaN</td>\n",
       "    </tr>\n",
       "  </tbody>\n",
       "</table>\n",
       "<p>5 rows × 24 columns</p>\n",
       "</div>"
      ],
      "text/plain": [
       "       id                source  latitude  longitude  region  country  \\\n",
       "0  284948                   OIE     52.03      14.60  Europe  Germany   \n",
       "1  284947  National authorities     52.60      14.59  Europe  Germany   \n",
       "2  284945                   OIE     52.07      14.54  Europe  Germany   \n",
       "3  284944                   OIE     52.14      14.43  Europe  Germany   \n",
       "4  284943                   OIE     52.10      14.42  Europe  Germany   \n",
       "\n",
       "        admin1      locality_name locality_quality observation_date  ...  \\\n",
       "0  Brandenburg   \\tSchenkendöbern            Exact       15/12/2020  ...   \n",
       "1  Brandenburg   Bleyen-Genschmar            Exact       16/12/2020  ...   \n",
       "2  Brandenburg           Neuzelle            Exact       10/12/2020  ...   \n",
       "3  Brandenburg  Grunow-Dammendorf            Exact       10/12/2020  ...   \n",
       "4  Brandenburg          Friedland            Exact       10/12/2020  ...   \n",
       "\n",
       "                   species_description sum_at_risk sum_cases sum_deaths  \\\n",
       "0  wild,wild boar:sus scrofa (suidae))         NaN       2.0        2.0   \n",
       "1  wild,wild boar:sus scrofa (suidae))         NaN       2.0        2.0   \n",
       "2  wild,wild boar:sus scrofa (suidae))        18.0      16.0        2.0   \n",
       "3  wild,wild boar:sus scrofa (suidae))         NaN       2.0        2.0   \n",
       "4  wild,wild boar:sus scrofa (suidae))        21.0      17.0        4.0   \n",
       "\n",
       "  sum_destroyed  sum_slaughtered  humans_gender_desc  humans_age  \\\n",
       "0           NaN              NaN                 NaN         0.0   \n",
       "1           NaN              NaN                 NaN         0.0   \n",
       "2           NaN              NaN                 NaN         0.0   \n",
       "3           NaN              NaN                 NaN         0.0   \n",
       "4           NaN              NaN                 NaN         0.0   \n",
       "\n",
       "   humans_affected  humans_deaths  \n",
       "0              NaN            NaN  \n",
       "1              NaN            NaN  \n",
       "2              NaN            NaN  \n",
       "3              NaN            NaN  \n",
       "4              NaN            NaN  \n",
       "\n",
       "[5 rows x 24 columns]"
      ]
     },
     "execution_count": 9,
     "metadata": {},
     "output_type": "execute_result"
    }
   ],
   "source": [
    "df.head()"
   ]
  },
  {
   "cell_type": "code",
   "execution_count": 10,
   "metadata": {},
   "outputs": [],
   "source": [
    "df.to_csv('outbreak_all_data.csv',index= False)"
   ]
  },
  {
   "cell_type": "code",
   "execution_count": null,
   "metadata": {},
   "outputs": [],
   "source": []
  }
 ],
 "metadata": {
  "kernelspec": {
   "display_name": "Python 3",
   "language": "python",
   "name": "python3"
  },
  "language_info": {
   "codemirror_mode": {
    "name": "ipython",
    "version": 3
   },
   "file_extension": ".py",
   "mimetype": "text/x-python",
   "name": "python",
   "nbconvert_exporter": "python",
   "pygments_lexer": "ipython3",
   "version": "3.7.9"
  }
 },
 "nbformat": 4,
 "nbformat_minor": 2
}
