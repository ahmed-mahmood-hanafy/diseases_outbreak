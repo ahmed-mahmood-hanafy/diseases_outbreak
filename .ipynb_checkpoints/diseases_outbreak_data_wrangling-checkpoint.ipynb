{
 "cells": [
  {
   "cell_type": "markdown",
   "metadata": {},
   "source": [
    "# diseases_outbreak_data_wrangling"
   ]
  },
  {
   "cell_type": "markdown",
   "metadata": {},
   "source": [
    "The data could not be downloaded as one file, so I had to download it as 18 separate files stored in `outbreak_separate` folder.\n",
    "let's loop through them and collect them in one clean file"
   ]
  },
  {
   "cell_type": "markdown",
   "metadata": {},
   "source": [
    "## data gathering\n",
    "in this step we import data to one data frame"
   ]
  },
  {
   "cell_type": "code",
   "execution_count": 1,
   "metadata": {},
   "outputs": [],
   "source": [
    "import pandas as pd\n",
    "import matplotlib.pyplot as plt"
   ]
  },
  {
   "cell_type": "code",
   "execution_count": 2,
   "metadata": {},
   "outputs": [],
   "source": [
    "df = pd.DataFrame()"
   ]
  },
  {
   "cell_type": "code",
   "execution_count": 3,
   "metadata": {},
   "outputs": [],
   "source": [
    "for i in range (1,19):\n",
    "    file_dir = 'outbreak_separate/Outbreak_list'+str(i)+'.csv'\n",
    "    temp_df = pd.read_csv(file_dir ,float_precision = 'high')\n",
    "    df = df.append(temp_df)"
   ]
  },
  {
   "cell_type": "markdown",
   "metadata": {},
   "source": [
    "## data assessing\n",
    "in this step we look at the data to see problems or any thing that could be made better"
   ]
  },
  {
   "cell_type": "code",
   "execution_count": 14,
   "metadata": {
    "scrolled": true
   },
   "outputs": [
    {
     "name": "stdout",
     "output_type": "stream",
     "text": [
      "this data set has 24 columns and 89610 rows\n"
     ]
    }
   ],
   "source": [
    "print ('this data set has '+ str(df.shape[1]) +' columns and ' + str(df.shape[0]) + ' rows')"
   ]
  },
  {
   "cell_type": "code",
   "execution_count": 15,
   "metadata": {},
   "outputs": [
    {
     "name": "stdout",
     "output_type": "stream",
     "text": [
      "<class 'pandas.core.frame.DataFrame'>\n",
      "Int64Index: 89610 entries, 0 to 4609\n",
      "Data columns (total 24 columns):\n",
      "Id                    89610 non-null int64\n",
      "source                89610 non-null object\n",
      "latitude              89610 non-null float64\n",
      "longitude             89610 non-null float64\n",
      "region                89610 non-null object\n",
      "country               89610 non-null object\n",
      "admin1                89610 non-null object\n",
      "localityName          89610 non-null object\n",
      "localityQuality       89610 non-null object\n",
      "observationDate       81211 non-null object\n",
      "reportingDate         89610 non-null object\n",
      "status                89610 non-null object\n",
      "disease               89610 non-null object\n",
      "serotypes             49424 non-null object\n",
      "speciesDescription    84157 non-null object\n",
      "sumAtRisk             49369 non-null float64\n",
      "sumCases              67014 non-null float64\n",
      "sumDeaths             61866 non-null float64\n",
      "sumDestroyed          53394 non-null float64\n",
      "sumSlaughtered        39758 non-null float64\n",
      "humansGenderDesc      829 non-null object\n",
      "humansAge             4867 non-null float64\n",
      "humansAffected        5444 non-null float64\n",
      "humansDeaths          2090 non-null float64\n",
      "dtypes: float64(10), int64(1), object(13)\n",
      "memory usage: 17.1+ MB\n"
     ]
    }
   ],
   "source": [
    "df.info()"
   ]
  },
  {
   "cell_type": "code",
   "execution_count": null,
   "metadata": {},
   "outputs": [],
   "source": []
  },
  {
   "cell_type": "markdown",
   "metadata": {},
   "source": []
  },
  {
   "cell_type": "code",
   "execution_count": null,
   "metadata": {},
   "outputs": [],
   "source": []
  },
  {
   "cell_type": "code",
   "execution_count": null,
   "metadata": {},
   "outputs": [],
   "source": []
  }
 ],
 "metadata": {
  "kernelspec": {
   "display_name": "Python 3",
   "language": "python",
   "name": "python3"
  },
  "language_info": {
   "codemirror_mode": {
    "name": "ipython",
    "version": 3
   },
   "file_extension": ".py",
   "mimetype": "text/x-python",
   "name": "python",
   "nbconvert_exporter": "python",
   "pygments_lexer": "ipython3",
   "version": "3.7.4"
  }
 },
 "nbformat": 4,
 "nbformat_minor": 2
}
